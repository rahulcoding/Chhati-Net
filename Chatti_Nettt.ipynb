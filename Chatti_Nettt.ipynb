{
  "nbformat": 4,
  "nbformat_minor": 0,
  "metadata": {
    "colab": {
      "name": "Chatti_Nettt",
      "provenance": [],
      "include_colab_link": true
    },
    "kernelspec": {
      "name": "python3",
      "display_name": "Python 3"
    },
    "accelerator": "GPU"
  },
  "cells": [
    {
      "cell_type": "markdown",
      "metadata": {
        "id": "view-in-github",
        "colab_type": "text"
      },
      "source": [
        "<a href=\"https://colab.research.google.com/github/rahulcoding/Chhati-Net/blob/master/Chatti_Nettt.ipynb\" target=\"_parent\"><img src=\"https://colab.research.google.com/assets/colab-badge.svg\" alt=\"Open In Colab\"/></a>"
      ]
    },
    {
      "cell_type": "code",
      "metadata": {
        "id": "X115aKnA470h",
        "colab_type": "code",
        "outputId": "142899a9-dd2d-45f2-ae78-15a22f984b84",
        "colab": {
          "base_uri": "https://localhost:8080/",
          "height": 145
        }
      },
      "source": [
        "!git clone https://github.com/thtang/CheXNet-with-localization.git"
      ],
      "execution_count": 0,
      "outputs": [
        {
          "output_type": "stream",
          "text": [
            "Cloning into 'CheXNet-with-localization'...\n",
            "remote: Enumerating objects: 16, done.\u001b[K\n",
            "remote: Counting objects:   6% (1/16)\u001b[K\rremote: Counting objects:  12% (2/16)\u001b[K\rremote: Counting objects:  18% (3/16)\u001b[K\rremote: Counting objects:  25% (4/16)\u001b[K\rremote: Counting objects:  31% (5/16)\u001b[K\rremote: Counting objects:  37% (6/16)\u001b[K\rremote: Counting objects:  43% (7/16)\u001b[K\rremote: Counting objects:  50% (8/16)\u001b[K\rremote: Counting objects:  56% (9/16)\u001b[K\rremote: Counting objects:  62% (10/16)\u001b[K\rremote: Counting objects:  68% (11/16)\u001b[K\rremote: Counting objects:  75% (12/16)\u001b[K\rremote: Counting objects:  81% (13/16)\u001b[K\rremote: Counting objects:  87% (14/16)\u001b[K\rremote: Counting objects:  93% (15/16)\u001b[K\rremote: Counting objects: 100% (16/16)\u001b[K\rremote: Counting objects: 100% (16/16), done.\u001b[K\n",
            "remote: Compressing objects: 100% (14/14), done.\u001b[K\n",
            "remote: Total 290 (delta 7), reused 1 (delta 0), pack-reused 274\u001b[K\n",
            "Receiving objects: 100% (290/290), 178.38 MiB | 11.61 MiB/s, done.\n",
            "Resolving deltas: 100% (159/159), done.\n"
          ],
          "name": "stdout"
        }
      ]
    },
    {
      "cell_type": "markdown",
      "metadata": {
        "id": "9SA2N8v0MEO3",
        "colab_type": "text"
      },
      "source": [
        "~~~python\n",
        "import numpy as np\n",
        "from os import listdir\n",
        "import skimage.transform\n",
        "import torch\n",
        "from torch.utils.data import Dataset, DataLoader\n",
        "from torch.nn import functional as F\n",
        "import torch.nn as nn\n",
        "import torch.backends.cudnn as cudnn\n",
        "import torchvision\n",
        "import torchvision.transforms as transforms\n",
        "from torch.autograd import Variable\n",
        "import torch.optim as optim\n",
        "from torch.autograd import Function\n",
        "from torchvision import models\n",
        "from torchvision import utils\n",
        "import cv2\n",
        "import sys\n",
        "import os\n",
        "import pickle\n",
        "from collections import defaultdict\n",
        "from collections import OrderedDict\n",
        "import imageio\n",
        "import skimage\n",
        "from skimage.io import *\n",
        "from skimage.transform import *\n",
        "from collections import OrderedDict\n",
        "\n",
        "import scipy\n",
        "import scipy.ndimage as ndimage\n",
        "import scipy.ndimage.filters as filters\n",
        "from scipy.ndimage import binary_dilation\n",
        "import matplotlib.patches as patches\n",
        "\n",
        "os.environ['CUDA_VISIBLE_DEVICES'] = \"0\"\n",
        "\n",
        "test_txt_path = sys.argv[1]\n",
        "img_folder_path = sys.argv[2]\n",
        "\n",
        "with open(test_txt_path, \"r\") as f:\n",
        "    test_list = [i.strip() for i in f.readlines()]\n",
        "\n",
        "print(\"number of test examples:\",len(test_list))\n",
        "\n",
        "test_X = []\n",
        "print(\"load and transform image\")\n",
        "for i in range(len(test_list)):\n",
        "    image_path = os.path.join(img_folder_path, test_list[i])\n",
        "    print(image_path)\n",
        "    img = imageio.imread(image_path)\n",
        "    if img.shape != (1024,1024):\n",
        "        img = img[:,:,0]\n",
        "    img_resized = skimage.transform.resize(img,(256,256))\n",
        "    test_X.append((np.array(img_resized)).reshape(256,256,1))\n",
        "    if i % 100==0:\n",
        "        print(i)\n",
        "test_X = np.array(test_X)\n",
        "\n",
        "# model archi\n",
        "# construct model\n",
        "class DenseNet121(nn.Module):\n",
        "\t\"\"\"Model modified.\n",
        "\tThe architecture of our model is the same as standard DenseNet121\n",
        "\texcept the classifier layer which has an additional sigmoid function.\n",
        "\t\"\"\"\n",
        "\tdef __init__(self, out_size):\n",
        "\t\tsuper(DenseNet121, self).__init__()\n",
        "\t\tself.densenet121 = torchvision.models.densenet121(pretrained=True)\n",
        "\t\tnum_ftrs = self.densenet121.classifier.in_features\n",
        "\t\tself.densenet121.classifier = nn.Sequential(\n",
        "\t\t    nn.Linear(num_ftrs, out_size),\n",
        "\t\t    nn.Sigmoid()\n",
        "\t\t)\n",
        "\n",
        "\tdef forward(self, x):\n",
        "\t\tx = self.densenet121(x)\n",
        "\t\treturn x\n",
        "\n",
        "model = DenseNet121(8).cuda()\n",
        "model = torch.nn.DataParallel(model)\n",
        "checkpoint = torch.load(\"model/DenseNet121_aug4_pretrain_WeightBelow1_1_0.829766922537.pkl\")\n",
        "def func(keys_passed):\n",
        "  change = ['.0.','.1.','.2.']\n",
        "  if change[0] in keys_passed:\n",
        "    i = change[0]\n",
        "    b = keys_passed.split(i)\n",
        "    b.insert(1,i[1:])\n",
        "    c = ''.join(b)\n",
        "    return keys_passed\n",
        "  elif change[1] in keys_passed:\n",
        "    i = change[1]\n",
        "    b = keys_passed.split(i)\n",
        "    b.insert(1,i[1:])\n",
        "    c = ''.join(b)\n",
        "    return c\n",
        "  elif change[2] in keys_passed:\n",
        "    i = change[2]\n",
        "    b = keys_passed.split(i)\n",
        "    b.insert(1,i[1:])\n",
        "    c = ''.join(b)\n",
        "    return c\n",
        "  else:\n",
        "    return keys_passed  \n",
        "\n",
        "final_dic = {func(key):value for key, value in checkpoint.items()}\n",
        "checkpoint = OrderedDict(final_dic)\n",
        "model.load_state_dict(checkpoint)\n",
        "print(\"model loaded\")\n",
        "\n",
        "\n",
        "\n",
        "# build test dataset\n",
        "class ChestXrayDataSet_plot(Dataset):\n",
        "\tdef __init__(self, input_X = test_X, transform=None):\n",
        "\t\tself.X = np.uint8(test_X*255)\n",
        "\t\tself.transform = transform\n",
        "\n",
        "\tdef __getitem__(self, index):\n",
        "\t\t\"\"\"\n",
        "\t\tArgs:\n",
        "\t\t    index: the index of item \n",
        "\t\tReturns:\n",
        "\t\t    image \n",
        "\t\t\"\"\"\n",
        "\t\tcurrent_X = np.tile(self.X[index],3)\n",
        "\t\timage = self.transform(current_X)\n",
        "\t\treturn image\n",
        "\tdef __len__(self):\n",
        "\t\treturn len(self.X)\n",
        "\n",
        "test_dataset = ChestXrayDataSet_plot(input_X = test_X,transform=transforms.Compose([\n",
        "                                        transforms.ToPILImage(),\n",
        "                                        transforms.CenterCrop(224),\n",
        "                                        transforms.ToTensor(),\n",
        "                                        transforms.Normalize([0.485, 0.456, 0.406],[0.229, 0.224, 0.225])\n",
        "                                        ]))\n",
        "\n",
        "thresholds = np.load(\"thresholds.npy\")\n",
        "print(\"activate threshold\",thresholds)\n",
        "\n",
        "print(\"generate heatmap ..........\")\n",
        "# ======= Grad CAM Function =========\n",
        "class PropagationBase(object):\n",
        "\n",
        "    def __init__(self, model, cuda=False):\n",
        "        self.model = model\n",
        "        self.model.eval()\n",
        "        if cuda:\n",
        "            self.model.cuda()\n",
        "        self.cuda = cuda\n",
        "        self.all_fmaps = OrderedDict()\n",
        "        self.all_grads = OrderedDict()\n",
        "        self._set_hook_func()\n",
        "        self.image = None\n",
        "\n",
        "    def _set_hook_func(self):\n",
        "        raise NotImplementedError\n",
        "\n",
        "    def _encode_one_hot(self, idx):\n",
        "        one_hot = torch.FloatTensor(1, self.preds.size()[-1]).zero_()\n",
        "        one_hot[0][idx] = 1.0\n",
        "        return one_hot.cuda() if self.cuda else one_hot\n",
        "\n",
        "    def forward(self, image):\n",
        "        self.image = image\n",
        "        self.preds = self.model.forward(self.image)\n",
        "#         self.probs = F.softmax(self.preds)[0]\n",
        "#         self.prob, self.idx = self.preds[0].data.sort(0, True)\n",
        "        return self.preds.cpu().data.numpy()\n",
        "\n",
        "    def backward(self, idx):\n",
        "        self.model.zero_grad()\n",
        "        one_hot = self._encode_one_hot(idx)\n",
        "        self.preds.backward(gradient=one_hot, retain_graph=True)\n",
        "\n",
        "\n",
        "class GradCAM(PropagationBase):\n",
        "\n",
        "    def _set_hook_func(self):\n",
        "\n",
        "        def func_f(module, input, output):\n",
        "            self.all_fmaps[id(module)] = output.data.cpu()\n",
        "\n",
        "        def func_b(module, grad_in, grad_out):\n",
        "            self.all_grads[id(module)] = grad_out[0].cpu()\n",
        "\n",
        "        for module in self.model.named_modules():\n",
        "            module[1].register_forward_hook(func_f)\n",
        "            module[1].register_backward_hook(func_b)\n",
        "\n",
        "    def _find(self, outputs, target_layer):\n",
        "        for key, value in outputs.items():\n",
        "            for module in self.model.named_modules():\n",
        "                if id(module[1]) == key:\n",
        "                    if module[0] == target_layer:\n",
        "                        return value\n",
        "        raise ValueError('Invalid layer name: {}'.format(target_layer))\n",
        "\n",
        "    def _normalize(self, grads):\n",
        "        l2_norm = torch.sqrt(torch.mean(torch.pow(grads, 2))) + 1e-5\n",
        "        return grads / l2_norm.data.item()\n",
        "\n",
        "    def _compute_grad_weights(self, grads):\n",
        "        grads = self._normalize(grads)\n",
        "        self.map_size = grads.size()[2:]\n",
        "        return nn.AvgPool2d(self.map_size)(grads)\n",
        "\n",
        "    def generate(self, target_layer):\n",
        "        fmaps = self._find(self.all_fmaps, target_layer)\n",
        "        grads = self._find(self.all_grads, target_layer)\n",
        "        weights = self._compute_grad_weights(grads)\n",
        "        gcam = torch.FloatTensor(self.map_size).zero_()\n",
        "        for fmap, weight in zip(fmaps[0], weights[0]):\n",
        "            gcam += fmap * weight.data\n",
        "        \n",
        "        gcam = F.relu(Variable(gcam))\n",
        "\n",
        "        gcam = gcam.data.cpu().numpy()\n",
        "        gcam -= gcam.min()\n",
        "        gcam /= gcam.max()\n",
        "        gcam = cv2.resize(gcam, (self.image.size(3), self.image.size(2)))\n",
        "\n",
        "        return gcam\n",
        "\n",
        "    def save(self, filename, gcam, raw_image):\n",
        "        gcam = cv2.applyColorMap(np.uint8(gcam * 255.0), cv2.COLORMAP_JET)\n",
        "        gcam = gcam.astype(np.float) + raw_image.astype(np.float)\n",
        "        gcam = gcam / gcam.max() * 255.0\n",
        "        cv2.imwrite(filename, np.uint8(gcam))\n",
        "\n",
        "\n",
        "\n",
        "\n",
        "# ======== Create heatmap ===========\n",
        "\n",
        "heatmap_output = []\n",
        "image_id = []\n",
        "output_class = []\n",
        "\n",
        "gcam = GradCAM(model=model, cuda=True)\n",
        "for index in range(len(test_dataset)):\n",
        "    input_img = Variable((test_dataset[index]).unsqueeze(0).cuda(), requires_grad=True)\n",
        "    probs = gcam.forward(input_img)\n",
        "\n",
        "    activate_classes = np.where((probs > thresholds)[0]==True)[0] # get the activated class\n",
        "    for activate_class in activate_classes:\n",
        "        gcam.backward(idx=activate_class)\n",
        "        output = gcam.generate(target_layer=\"module.densenet121.features.denseblock4.denselayer16.conv2\")\n",
        "        #### this output is heatmap ####\n",
        "        if np.sum(np.isnan(output)) > 0:\n",
        "            print(\"fxxx nan\")\n",
        "        heatmap_output.append(output)\n",
        "        image_id.append(index)\n",
        "        output_class.append(activate_class)\n",
        "    print(\"test \",str(index),\" finished\")\n",
        "\n",
        "print(\"heatmap output done\")\n",
        "print(\"total number of heatmap: \",len(heatmap_output))\n",
        "\n",
        "# ======= Plot bounding box =========\n",
        "img_width, img_height = 224, 224\n",
        "img_width_exp, img_height_exp = 1024, 1024\n",
        "\n",
        "crop_del = 16\n",
        "rescale_factor = 4\n",
        "\n",
        "class_index = ['Atelectasis', 'Cardiomegaly', 'Effusion', 'Infiltration', 'Mass', 'Nodule', 'Pneumonia', 'Pneumothorax']\n",
        "avg_size = np.array([[411.8, 512.5, 219.0, 139.1], [348.5, 392.3, 479.8, 381.1],\n",
        "                     [396.5, 415.8, 221.6, 318.0], [394.5, 389.1, 294.0, 297.4],\n",
        "                     [434.3, 366.7, 168.7, 189.8], [502.4, 458.7, 71.9, 70.4],\n",
        "                     [378.7, 416.7, 276.5, 304.5], [369.3, 209.4, 198.9, 246.0]])\n",
        "\n",
        "\n",
        "prediction_dict = {}\n",
        "for i in range(len(test_list)):\n",
        "    prediction_dict[i] = []\n",
        "\n",
        "for img_id, k, npy in zip(image_id, output_class, heatmap_output):\n",
        "    \n",
        "    data = npy\n",
        "    img_fname = test_list[img_id]\n",
        "\n",
        "    # output avgerge\n",
        "    prediction_sent = '%s %.1f %.1f %.1f %.1f' % (class_index[k], avg_size[k][0], avg_size[k][1], avg_size[k][2], avg_size[k][3])\n",
        "    prediction_dict[img_id].append(prediction_sent)\n",
        "\n",
        "    if np.isnan(data).any():\n",
        "        continue\n",
        "\n",
        "    w_k, h_k = (avg_size[k][2:4] * (256 / 1024)).astype(np.int)\n",
        "    \n",
        "    # Find local maxima\n",
        "    neighborhood_size = 100\n",
        "    threshold = .1\n",
        "    \n",
        "    data_max = filters.maximum_filter(data, neighborhood_size)\n",
        "    maxima = (data == data_max)\n",
        "    data_min = filters.minimum_filter(data, neighborhood_size)\n",
        "    diff = ((data_max - data_min) > threshold)\n",
        "    maxima[diff == 0] = 0\n",
        "    for _ in range(5):\n",
        "        maxima = binary_dilation(maxima)\n",
        "    \n",
        "    labeled, num_objects = ndimage.label(maxima)\n",
        "    slices = ndimage.find_objects(labeled)\n",
        "    xy = np.array(ndimage.center_of_mass(data, labeled, range(1, num_objects+1)))\n",
        "        \n",
        "    for pt in xy:\n",
        "        if data[int(pt[0]), int(pt[1])] > np.max(data)*.9:\n",
        "            upper = int(max(pt[0]-(h_k/2), 0.))\n",
        "            left = int(max(pt[1]-(w_k/2), 0.))\n",
        "\n",
        "            right = int(min(left+w_k, img_width))\n",
        "            lower = int(min(upper+h_k, img_height))\n",
        "            \n",
        "            prediction_sent = '%s %.1f %.1f %.1f %.1f' % (class_index[k], (left+crop_del)*rescale_factor, \\\n",
        "                                                                          (upper+crop_del)*rescale_factor, \\\n",
        "                                                                          (right-left)*rescale_factor, \\\n",
        "                                                                          (lower-upper)*rescale_factor)\n",
        "            \n",
        "            prediction_dict[img_id].append(prediction_sent)\n",
        "\n",
        "with open(\"bounding_box.txt\",\"w\") as f:\n",
        "\tfor i in range(len(prediction_dict)):\n",
        "\t\tfname = test_list[i]\n",
        "\t\tprediction = prediction_dict[i]\n",
        "\n",
        "\t\tprint(os.path.join(img_folder_path, fname), len(prediction))\n",
        "\t\tf.write('%s %d\\n' % (os.path.join(img_folder_path, fname), len(prediction)))\n",
        "\n",
        "\t\tfor p in prediction:\n",
        "\t\t\tprint(p)\n",
        "\t\t\tf.write(p+\"\\n\")\n",
        "~~~"
      ]
    },
    {
      "cell_type": "code",
      "metadata": {
        "id": "p3srpsFgCR5G",
        "colab_type": "code",
        "outputId": "2ec1a5e0-4b00-484c-e52f-0a88ffa0f98d",
        "colab": {
          "base_uri": "https://localhost:8080/",
          "height": 35
        }
      },
      "source": [
        "!pwd"
      ],
      "execution_count": 0,
      "outputs": [
        {
          "output_type": "stream",
          "text": [
            "/content\n"
          ],
          "name": "stdout"
        }
      ]
    },
    {
      "cell_type": "code",
      "metadata": {
        "id": "t8wPp_2jXcEC",
        "colab_type": "code",
        "outputId": "87f538b6-ab45-4f2a-b177-d6320ad35303",
        "colab": {
          "base_uri": "https://localhost:8080/",
          "height": 35
        }
      },
      "source": [
        "cd CheXNet-with-localization/"
      ],
      "execution_count": 0,
      "outputs": [
        {
          "output_type": "stream",
          "text": [
            "/content/CheXNet-with-localization\n"
          ],
          "name": "stdout"
        }
      ]
    },
    {
      "cell_type": "code",
      "metadata": {
        "id": "U-BbXUJLY_Gg",
        "colab_type": "code",
        "outputId": "d60ced2c-3045-46b9-89db-61dea969c3db",
        "colab": {
          "base_uri": "https://localhost:8080/",
          "height": 1000
        }
      },
      "source": [
        "!python3 denseNet_localization.py /content/image.txt /content\n"
      ],
      "execution_count": 35,
      "outputs": [
        {
          "output_type": "stream",
          "text": [
            "number of test examples: 10\n",
            "load and transform image\n",
            "/content/00000001_000.png\n",
            "0\n",
            "/content/00000001_001.png\n",
            "/content/00000001_002.png\n",
            "/content/00000002_000.png\n",
            "/content/00000003_000.png\n",
            "/content/00000003_001.png\n",
            "/content/00000003_002.png\n",
            "/content/00000003_004.png\n",
            "/content/00000003_005.png\n",
            "/content/00000003_006.png\n",
            "model loaded\n",
            "activate threshold [0.19362465 0.07700258 0.3401143  0.39875817 0.08521137 0.14014415\n",
            " 0.02213187 0.08226113]\n",
            "generate heatmap ..........\n",
            "test  0  finished\n",
            "test  1  finished\n",
            "test  2  finished\n",
            "test  3  finished\n",
            "test  4  finished\n",
            "test  5  finished\n",
            "test  6  finished\n",
            "test  7  finished\n",
            "test  8  finished\n",
            "test  9  finished\n",
            "heatmap output done\n",
            "total number of heatmap:  55\n",
            "/content/00000001_000.png 10\n",
            "Atelectasis 411.8 512.5 219.0 139.1\n",
            "Atelectasis 532.0 308.0 216.0 136.0\n",
            "Cardiomegaly 348.5 392.3 479.8 381.1\n",
            "Cardiomegaly 396.0 320.0 476.0 380.0\n",
            "Mass 434.3 366.7 168.7 189.8\n",
            "Mass 548.0 540.0 168.0 188.0\n",
            "Nodule 502.4 458.7 71.9 70.4\n",
            "Nodule 216.0 476.0 68.0 68.0\n",
            "Pneumonia 378.7 416.7 276.5 304.5\n",
            "Pneumonia 500.0 360.0 276.0 304.0\n",
            "/content/00000001_001.png 6\n",
            "Atelectasis 411.8 512.5 219.0 139.1\n",
            "Atelectasis 404.0 316.0 216.0 136.0\n",
            "Cardiomegaly 348.5 392.3 479.8 381.1\n",
            "Cardiomegaly 396.0 444.0 476.0 380.0\n",
            "Pneumonia 378.7 416.7 276.5 304.5\n",
            "Pneumonia 372.0 612.0 276.0 304.0\n",
            "/content/00000001_002.png 10\n",
            "Atelectasis 411.8 512.5 219.0 139.1\n",
            "Atelectasis 532.0 436.0 216.0 136.0\n",
            "Cardiomegaly 348.5 392.3 479.8 381.1\n",
            "Cardiomegaly 396.0 444.0 476.0 380.0\n",
            "Effusion 396.5 415.8 221.6 318.0\n",
            "Effusion 400.0 352.0 220.0 316.0\n",
            "Mass 434.3 366.7 168.7 189.8\n",
            "Mass 64.0 672.0 168.0 188.0\n",
            "Pneumonia 378.7 416.7 276.5 304.5\n",
            "Pneumonia 368.0 616.0 276.0 304.0\n",
            "/content/00000002_000.png 12\n",
            "Atelectasis 411.8 512.5 219.0 139.1\n",
            "Atelectasis 400.0 316.0 216.0 136.0\n",
            "Cardiomegaly 348.5 392.3 479.8 381.1\n",
            "Cardiomegaly 272.0 320.0 476.0 380.0\n",
            "Mass 434.3 366.7 168.7 189.8\n",
            "Mass 556.0 540.0 168.0 188.0\n",
            "Nodule 502.4 458.7 71.9 70.4\n",
            "Nodule 220.0 476.0 68.0 68.0\n",
            "Pneumonia 378.7 416.7 276.5 304.5\n",
            "Pneumonia 372.0 488.0 276.0 304.0\n",
            "Pneumothorax 369.3 209.4 198.9 246.0\n",
            "Pneumothorax 668.0 796.0 196.0 164.0\n",
            "/content/00000003_000.png 10\n",
            "Atelectasis 411.8 512.5 219.0 139.1\n",
            "Atelectasis 276.0 308.0 216.0 136.0\n",
            "Mass 434.3 366.7 168.7 189.8\n",
            "Mass 428.0 416.0 168.0 188.0\n",
            "Nodule 502.4 458.7 71.9 70.4\n",
            "Nodule 220.0 472.0 68.0 68.0\n",
            "Pneumonia 378.7 416.7 276.5 304.5\n",
            "Pneumonia 112.0 616.0 276.0 304.0\n",
            "Pneumothorax 369.3 209.4 198.9 246.0\n",
            "Pneumothorax 668.0 256.0 196.0 244.0\n",
            "/content/00000003_001.png 12\n",
            "Atelectasis 411.8 512.5 219.0 139.1\n",
            "Atelectasis 276.0 312.0 216.0 136.0\n",
            "Cardiomegaly 348.5 392.3 479.8 381.1\n",
            "Cardiomegaly 676.0 724.0 284.0 236.0\n",
            "Mass 434.3 366.7 168.7 189.8\n",
            "Mass 548.0 544.0 168.0 188.0\n",
            "Nodule 502.4 458.7 71.9 70.4\n",
            "Nodule 476.0 604.0 68.0 68.0\n",
            "Pneumonia 378.7 416.7 276.5 304.5\n",
            "Pneumonia 240.0 616.0 276.0 304.0\n",
            "Pneumothorax 369.3 209.4 198.9 246.0\n",
            "Pneumothorax 536.0 516.0 196.0 244.0\n",
            "/content/00000003_002.png 14\n",
            "Atelectasis 411.8 512.5 219.0 139.1\n",
            "Atelectasis 652.0 316.0 216.0 136.0\n",
            "Cardiomegaly 348.5 392.3 479.8 381.1\n",
            "Cardiomegaly 680.0 192.0 280.0 380.0\n",
            "Effusion 396.5 415.8 221.6 318.0\n",
            "Effusion 656.0 604.0 220.0 316.0\n",
            "Mass 434.3 366.7 168.7 189.8\n",
            "Mass 676.0 288.0 168.0 188.0\n",
            "Nodule 502.4 458.7 71.9 70.4\n",
            "Nodule 600.0 216.0 68.0 68.0\n",
            "Pneumonia 378.7 416.7 276.5 304.5\n",
            "Pneumonia 64.0 612.0 276.0 304.0\n",
            "Pneumothorax 369.3 209.4 198.9 246.0\n",
            "Pneumothorax 408.0 644.0 196.0 244.0\n",
            "/content/00000003_004.png 13\n",
            "Atelectasis 411.8 512.5 219.0 139.1\n",
            "Atelectasis 404.0 436.0 216.0 136.0\n",
            "Cardiomegaly 348.5 392.3 479.8 381.1\n",
            "Cardiomegaly 64.0 576.0 476.0 380.0\n",
            "Mass 434.3 366.7 168.7 189.8\n",
            "Mass 548.0 416.0 168.0 188.0\n",
            "Nodule 502.4 458.7 71.9 70.4\n",
            "Nodule 348.0 344.0 68.0 68.0\n",
            "Nodule 728.0 472.0 68.0 68.0\n",
            "Pneumonia 378.7 416.7 276.5 304.5\n",
            "Pneumonia 780.0 616.0 180.0 304.0\n",
            "Pneumothorax 369.3 209.4 198.9 246.0\n",
            "Pneumothorax 816.0 792.0 144.0 168.0\n",
            "/content/00000003_005.png 12\n",
            "Atelectasis 411.8 512.5 219.0 139.1\n",
            "Atelectasis 276.0 316.0 216.0 136.0\n",
            "Mass 434.3 366.7 168.7 189.8\n",
            "Mass 428.0 416.0 168.0 188.0\n",
            "Nodule 502.4 458.7 71.9 70.4\n",
            "Nodule 472.0 220.0 68.0 68.0\n",
            "Nodule 728.0 344.0 68.0 68.0\n",
            "Pneumonia 378.7 416.7 276.5 304.5\n",
            "Pneumonia 64.0 616.0 276.0 304.0\n",
            "Pneumothorax 369.3 209.4 198.9 246.0\n",
            "Pneumothorax 668.0 64.0 196.0 244.0\n",
            "Pneumothorax 668.0 256.0 196.0 244.0\n",
            "/content/00000003_006.png 16\n",
            "Atelectasis 411.8 512.5 219.0 139.1\n",
            "Atelectasis 276.0 308.0 216.0 136.0\n",
            "Cardiomegaly 348.5 392.3 479.8 381.1\n",
            "Cardiomegaly 64.0 192.0 476.0 380.0\n",
            "Cardiomegaly 64.0 448.0 476.0 380.0\n",
            "Cardiomegaly 268.0 576.0 476.0 380.0\n",
            "Infiltration 394.5 389.1 294.0 297.4\n",
            "Infiltration 104.0 64.0 292.0 296.0\n",
            "Mass 434.3 366.7 168.7 189.8\n",
            "Mass 428.0 416.0 168.0 188.0\n",
            "Nodule 502.4 458.7 71.9 70.4\n",
            "Nodule 604.0 344.0 68.0 68.0\n",
            "Pneumonia 378.7 416.7 276.5 304.5\n",
            "Pneumonia 624.0 488.0 276.0 304.0\n",
            "Pneumothorax 369.3 209.4 198.9 246.0\n",
            "Pneumothorax 668.0 256.0 196.0 244.0\n"
          ],
          "name": "stdout"
        }
      ]
    },
    {
      "cell_type": "markdown",
      "metadata": {
        "id": "ujO5bTuqLDmh",
        "colab_type": "text"
      },
      "source": [
        ""
      ]
    },
    {
      "cell_type": "code",
      "metadata": {
        "id": "fLyX2_nLZM-r",
        "colab_type": "code",
        "colab": {
          "base_uri": "https://localhost:8080/",
          "height": 72
        },
        "outputId": "7ea767e7-03b1-4e57-82ca-10187c01a1d8"
      },
      "source": [
        "import torch\n",
        "checkpoint = torch.load(\"model/DenseNet121_aug4_pretrain_WeightBelow1_1_0.829766922537.pkl\")\n",
        "print(type(checkpoint))\n",
        "print(checkpoint.keys())"
      ],
      "execution_count": 29,
      "outputs": [
        {
          "output_type": "stream",
          "text": [
            "<class 'collections.OrderedDict'>\n",
            "odict_keys(['module.densenet121.features.conv0.weight', 'module.densenet121.features.norm0.weight', 'module.densenet121.features.norm0.bias', 'module.densenet121.features.norm0.running_mean', 'module.densenet121.features.norm0.running_var', 'module.densenet121.features.denseblock1.denselayer1.norm.1.weight', 'module.densenet121.features.denseblock1.denselayer1.norm.1.bias', 'module.densenet121.features.denseblock1.denselayer1.norm.1.running_mean', 'module.densenet121.features.denseblock1.denselayer1.norm.1.running_var', 'module.densenet121.features.denseblock1.denselayer1.conv.1.weight', 'module.densenet121.features.denseblock1.denselayer1.norm.2.weight', 'module.densenet121.features.denseblock1.denselayer1.norm.2.bias', 'module.densenet121.features.denseblock1.denselayer1.norm.2.running_mean', 'module.densenet121.features.denseblock1.denselayer1.norm.2.running_var', 'module.densenet121.features.denseblock1.denselayer1.conv.2.weight', 'module.densenet121.features.denseblock1.denselayer2.norm.1.weight', 'module.densenet121.features.denseblock1.denselayer2.norm.1.bias', 'module.densenet121.features.denseblock1.denselayer2.norm.1.running_mean', 'module.densenet121.features.denseblock1.denselayer2.norm.1.running_var', 'module.densenet121.features.denseblock1.denselayer2.conv.1.weight', 'module.densenet121.features.denseblock1.denselayer2.norm.2.weight', 'module.densenet121.features.denseblock1.denselayer2.norm.2.bias', 'module.densenet121.features.denseblock1.denselayer2.norm.2.running_mean', 'module.densenet121.features.denseblock1.denselayer2.norm.2.running_var', 'module.densenet121.features.denseblock1.denselayer2.conv.2.weight', 'module.densenet121.features.denseblock1.denselayer3.norm.1.weight', 'module.densenet121.features.denseblock1.denselayer3.norm.1.bias', 'module.densenet121.features.denseblock1.denselayer3.norm.1.running_mean', 'module.densenet121.features.denseblock1.denselayer3.norm.1.running_var', 'module.densenet121.features.denseblock1.denselayer3.conv.1.weight', 'module.densenet121.features.denseblock1.denselayer3.norm.2.weight', 'module.densenet121.features.denseblock1.denselayer3.norm.2.bias', 'module.densenet121.features.denseblock1.denselayer3.norm.2.running_mean', 'module.densenet121.features.denseblock1.denselayer3.norm.2.running_var', 'module.densenet121.features.denseblock1.denselayer3.conv.2.weight', 'module.densenet121.features.denseblock1.denselayer4.norm.1.weight', 'module.densenet121.features.denseblock1.denselayer4.norm.1.bias', 'module.densenet121.features.denseblock1.denselayer4.norm.1.running_mean', 'module.densenet121.features.denseblock1.denselayer4.norm.1.running_var', 'module.densenet121.features.denseblock1.denselayer4.conv.1.weight', 'module.densenet121.features.denseblock1.denselayer4.norm.2.weight', 'module.densenet121.features.denseblock1.denselayer4.norm.2.bias', 'module.densenet121.features.denseblock1.denselayer4.norm.2.running_mean', 'module.densenet121.features.denseblock1.denselayer4.norm.2.running_var', 'module.densenet121.features.denseblock1.denselayer4.conv.2.weight', 'module.densenet121.features.denseblock1.denselayer5.norm.1.weight', 'module.densenet121.features.denseblock1.denselayer5.norm.1.bias', 'module.densenet121.features.denseblock1.denselayer5.norm.1.running_mean', 'module.densenet121.features.denseblock1.denselayer5.norm.1.running_var', 'module.densenet121.features.denseblock1.denselayer5.conv.1.weight', 'module.densenet121.features.denseblock1.denselayer5.norm.2.weight', 'module.densenet121.features.denseblock1.denselayer5.norm.2.bias', 'module.densenet121.features.denseblock1.denselayer5.norm.2.running_mean', 'module.densenet121.features.denseblock1.denselayer5.norm.2.running_var', 'module.densenet121.features.denseblock1.denselayer5.conv.2.weight', 'module.densenet121.features.denseblock1.denselayer6.norm.1.weight', 'module.densenet121.features.denseblock1.denselayer6.norm.1.bias', 'module.densenet121.features.denseblock1.denselayer6.norm.1.running_mean', 'module.densenet121.features.denseblock1.denselayer6.norm.1.running_var', 'module.densenet121.features.denseblock1.denselayer6.conv.1.weight', 'module.densenet121.features.denseblock1.denselayer6.norm.2.weight', 'module.densenet121.features.denseblock1.denselayer6.norm.2.bias', 'module.densenet121.features.denseblock1.denselayer6.norm.2.running_mean', 'module.densenet121.features.denseblock1.denselayer6.norm.2.running_var', 'module.densenet121.features.denseblock1.denselayer6.conv.2.weight', 'module.densenet121.features.transition1.norm.weight', 'module.densenet121.features.transition1.norm.bias', 'module.densenet121.features.transition1.norm.running_mean', 'module.densenet121.features.transition1.norm.running_var', 'module.densenet121.features.transition1.conv.weight', 'module.densenet121.features.denseblock2.denselayer1.norm.1.weight', 'module.densenet121.features.denseblock2.denselayer1.norm.1.bias', 'module.densenet121.features.denseblock2.denselayer1.norm.1.running_mean', 'module.densenet121.features.denseblock2.denselayer1.norm.1.running_var', 'module.densenet121.features.denseblock2.denselayer1.conv.1.weight', 'module.densenet121.features.denseblock2.denselayer1.norm.2.weight', 'module.densenet121.features.denseblock2.denselayer1.norm.2.bias', 'module.densenet121.features.denseblock2.denselayer1.norm.2.running_mean', 'module.densenet121.features.denseblock2.denselayer1.norm.2.running_var', 'module.densenet121.features.denseblock2.denselayer1.conv.2.weight', 'module.densenet121.features.denseblock2.denselayer2.norm.1.weight', 'module.densenet121.features.denseblock2.denselayer2.norm.1.bias', 'module.densenet121.features.denseblock2.denselayer2.norm.1.running_mean', 'module.densenet121.features.denseblock2.denselayer2.norm.1.running_var', 'module.densenet121.features.denseblock2.denselayer2.conv.1.weight', 'module.densenet121.features.denseblock2.denselayer2.norm.2.weight', 'module.densenet121.features.denseblock2.denselayer2.norm.2.bias', 'module.densenet121.features.denseblock2.denselayer2.norm.2.running_mean', 'module.densenet121.features.denseblock2.denselayer2.norm.2.running_var', 'module.densenet121.features.denseblock2.denselayer2.conv.2.weight', 'module.densenet121.features.denseblock2.denselayer3.norm.1.weight', 'module.densenet121.features.denseblock2.denselayer3.norm.1.bias', 'module.densenet121.features.denseblock2.denselayer3.norm.1.running_mean', 'module.densenet121.features.denseblock2.denselayer3.norm.1.running_var', 'module.densenet121.features.denseblock2.denselayer3.conv.1.weight', 'module.densenet121.features.denseblock2.denselayer3.norm.2.weight', 'module.densenet121.features.denseblock2.denselayer3.norm.2.bias', 'module.densenet121.features.denseblock2.denselayer3.norm.2.running_mean', 'module.densenet121.features.denseblock2.denselayer3.norm.2.running_var', 'module.densenet121.features.denseblock2.denselayer3.conv.2.weight', 'module.densenet121.features.denseblock2.denselayer4.norm.1.weight', 'module.densenet121.features.denseblock2.denselayer4.norm.1.bias', 'module.densenet121.features.denseblock2.denselayer4.norm.1.running_mean', 'module.densenet121.features.denseblock2.denselayer4.norm.1.running_var', 'module.densenet121.features.denseblock2.denselayer4.conv.1.weight', 'module.densenet121.features.denseblock2.denselayer4.norm.2.weight', 'module.densenet121.features.denseblock2.denselayer4.norm.2.bias', 'module.densenet121.features.denseblock2.denselayer4.norm.2.running_mean', 'module.densenet121.features.denseblock2.denselayer4.norm.2.running_var', 'module.densenet121.features.denseblock2.denselayer4.conv.2.weight', 'module.densenet121.features.denseblock2.denselayer5.norm.1.weight', 'module.densenet121.features.denseblock2.denselayer5.norm.1.bias', 'module.densenet121.features.denseblock2.denselayer5.norm.1.running_mean', 'module.densenet121.features.denseblock2.denselayer5.norm.1.running_var', 'module.densenet121.features.denseblock2.denselayer5.conv.1.weight', 'module.densenet121.features.denseblock2.denselayer5.norm.2.weight', 'module.densenet121.features.denseblock2.denselayer5.norm.2.bias', 'module.densenet121.features.denseblock2.denselayer5.norm.2.running_mean', 'module.densenet121.features.denseblock2.denselayer5.norm.2.running_var', 'module.densenet121.features.denseblock2.denselayer5.conv.2.weight', 'module.densenet121.features.denseblock2.denselayer6.norm.1.weight', 'module.densenet121.features.denseblock2.denselayer6.norm.1.bias', 'module.densenet121.features.denseblock2.denselayer6.norm.1.running_mean', 'module.densenet121.features.denseblock2.denselayer6.norm.1.running_var', 'module.densenet121.features.denseblock2.denselayer6.conv.1.weight', 'module.densenet121.features.denseblock2.denselayer6.norm.2.weight', 'module.densenet121.features.denseblock2.denselayer6.norm.2.bias', 'module.densenet121.features.denseblock2.denselayer6.norm.2.running_mean', 'module.densenet121.features.denseblock2.denselayer6.norm.2.running_var', 'module.densenet121.features.denseblock2.denselayer6.conv.2.weight', 'module.densenet121.features.denseblock2.denselayer7.norm.1.weight', 'module.densenet121.features.denseblock2.denselayer7.norm.1.bias', 'module.densenet121.features.denseblock2.denselayer7.norm.1.running_mean', 'module.densenet121.features.denseblock2.denselayer7.norm.1.running_var', 'module.densenet121.features.denseblock2.denselayer7.conv.1.weight', 'module.densenet121.features.denseblock2.denselayer7.norm.2.weight', 'module.densenet121.features.denseblock2.denselayer7.norm.2.bias', 'module.densenet121.features.denseblock2.denselayer7.norm.2.running_mean', 'module.densenet121.features.denseblock2.denselayer7.norm.2.running_var', 'module.densenet121.features.denseblock2.denselayer7.conv.2.weight', 'module.densenet121.features.denseblock2.denselayer8.norm.1.weight', 'module.densenet121.features.denseblock2.denselayer8.norm.1.bias', 'module.densenet121.features.denseblock2.denselayer8.norm.1.running_mean', 'module.densenet121.features.denseblock2.denselayer8.norm.1.running_var', 'module.densenet121.features.denseblock2.denselayer8.conv.1.weight', 'module.densenet121.features.denseblock2.denselayer8.norm.2.weight', 'module.densenet121.features.denseblock2.denselayer8.norm.2.bias', 'module.densenet121.features.denseblock2.denselayer8.norm.2.running_mean', 'module.densenet121.features.denseblock2.denselayer8.norm.2.running_var', 'module.densenet121.features.denseblock2.denselayer8.conv.2.weight', 'module.densenet121.features.denseblock2.denselayer9.norm.1.weight', 'module.densenet121.features.denseblock2.denselayer9.norm.1.bias', 'module.densenet121.features.denseblock2.denselayer9.norm.1.running_mean', 'module.densenet121.features.denseblock2.denselayer9.norm.1.running_var', 'module.densenet121.features.denseblock2.denselayer9.conv.1.weight', 'module.densenet121.features.denseblock2.denselayer9.norm.2.weight', 'module.densenet121.features.denseblock2.denselayer9.norm.2.bias', 'module.densenet121.features.denseblock2.denselayer9.norm.2.running_mean', 'module.densenet121.features.denseblock2.denselayer9.norm.2.running_var', 'module.densenet121.features.denseblock2.denselayer9.conv.2.weight', 'module.densenet121.features.denseblock2.denselayer10.norm.1.weight', 'module.densenet121.features.denseblock2.denselayer10.norm.1.bias', 'module.densenet121.features.denseblock2.denselayer10.norm.1.running_mean', 'module.densenet121.features.denseblock2.denselayer10.norm.1.running_var', 'module.densenet121.features.denseblock2.denselayer10.conv.1.weight', 'module.densenet121.features.denseblock2.denselayer10.norm.2.weight', 'module.densenet121.features.denseblock2.denselayer10.norm.2.bias', 'module.densenet121.features.denseblock2.denselayer10.norm.2.running_mean', 'module.densenet121.features.denseblock2.denselayer10.norm.2.running_var', 'module.densenet121.features.denseblock2.denselayer10.conv.2.weight', 'module.densenet121.features.denseblock2.denselayer11.norm.1.weight', 'module.densenet121.features.denseblock2.denselayer11.norm.1.bias', 'module.densenet121.features.denseblock2.denselayer11.norm.1.running_mean', 'module.densenet121.features.denseblock2.denselayer11.norm.1.running_var', 'module.densenet121.features.denseblock2.denselayer11.conv.1.weight', 'module.densenet121.features.denseblock2.denselayer11.norm.2.weight', 'module.densenet121.features.denseblock2.denselayer11.norm.2.bias', 'module.densenet121.features.denseblock2.denselayer11.norm.2.running_mean', 'module.densenet121.features.denseblock2.denselayer11.norm.2.running_var', 'module.densenet121.features.denseblock2.denselayer11.conv.2.weight', 'module.densenet121.features.denseblock2.denselayer12.norm.1.weight', 'module.densenet121.features.denseblock2.denselayer12.norm.1.bias', 'module.densenet121.features.denseblock2.denselayer12.norm.1.running_mean', 'module.densenet121.features.denseblock2.denselayer12.norm.1.running_var', 'module.densenet121.features.denseblock2.denselayer12.conv.1.weight', 'module.densenet121.features.denseblock2.denselayer12.norm.2.weight', 'module.densenet121.features.denseblock2.denselayer12.norm.2.bias', 'module.densenet121.features.denseblock2.denselayer12.norm.2.running_mean', 'module.densenet121.features.denseblock2.denselayer12.norm.2.running_var', 'module.densenet121.features.denseblock2.denselayer12.conv.2.weight', 'module.densenet121.features.transition2.norm.weight', 'module.densenet121.features.transition2.norm.bias', 'module.densenet121.features.transition2.norm.running_mean', 'module.densenet121.features.transition2.norm.running_var', 'module.densenet121.features.transition2.conv.weight', 'module.densenet121.features.denseblock3.denselayer1.norm.1.weight', 'module.densenet121.features.denseblock3.denselayer1.norm.1.bias', 'module.densenet121.features.denseblock3.denselayer1.norm.1.running_mean', 'module.densenet121.features.denseblock3.denselayer1.norm.1.running_var', 'module.densenet121.features.denseblock3.denselayer1.conv.1.weight', 'module.densenet121.features.denseblock3.denselayer1.norm.2.weight', 'module.densenet121.features.denseblock3.denselayer1.norm.2.bias', 'module.densenet121.features.denseblock3.denselayer1.norm.2.running_mean', 'module.densenet121.features.denseblock3.denselayer1.norm.2.running_var', 'module.densenet121.features.denseblock3.denselayer1.conv.2.weight', 'module.densenet121.features.denseblock3.denselayer2.norm.1.weight', 'module.densenet121.features.denseblock3.denselayer2.norm.1.bias', 'module.densenet121.features.denseblock3.denselayer2.norm.1.running_mean', 'module.densenet121.features.denseblock3.denselayer2.norm.1.running_var', 'module.densenet121.features.denseblock3.denselayer2.conv.1.weight', 'module.densenet121.features.denseblock3.denselayer2.norm.2.weight', 'module.densenet121.features.denseblock3.denselayer2.norm.2.bias', 'module.densenet121.features.denseblock3.denselayer2.norm.2.running_mean', 'module.densenet121.features.denseblock3.denselayer2.norm.2.running_var', 'module.densenet121.features.denseblock3.denselayer2.conv.2.weight', 'module.densenet121.features.denseblock3.denselayer3.norm.1.weight', 'module.densenet121.features.denseblock3.denselayer3.norm.1.bias', 'module.densenet121.features.denseblock3.denselayer3.norm.1.running_mean', 'module.densenet121.features.denseblock3.denselayer3.norm.1.running_var', 'module.densenet121.features.denseblock3.denselayer3.conv.1.weight', 'module.densenet121.features.denseblock3.denselayer3.norm.2.weight', 'module.densenet121.features.denseblock3.denselayer3.norm.2.bias', 'module.densenet121.features.denseblock3.denselayer3.norm.2.running_mean', 'module.densenet121.features.denseblock3.denselayer3.norm.2.running_var', 'module.densenet121.features.denseblock3.denselayer3.conv.2.weight', 'module.densenet121.features.denseblock3.denselayer4.norm.1.weight', 'module.densenet121.features.denseblock3.denselayer4.norm.1.bias', 'module.densenet121.features.denseblock3.denselayer4.norm.1.running_mean', 'module.densenet121.features.denseblock3.denselayer4.norm.1.running_var', 'module.densenet121.features.denseblock3.denselayer4.conv.1.weight', 'module.densenet121.features.denseblock3.denselayer4.norm.2.weight', 'module.densenet121.features.denseblock3.denselayer4.norm.2.bias', 'module.densenet121.features.denseblock3.denselayer4.norm.2.running_mean', 'module.densenet121.features.denseblock3.denselayer4.norm.2.running_var', 'module.densenet121.features.denseblock3.denselayer4.conv.2.weight', 'module.densenet121.features.denseblock3.denselayer5.norm.1.weight', 'module.densenet121.features.denseblock3.denselayer5.norm.1.bias', 'module.densenet121.features.denseblock3.denselayer5.norm.1.running_mean', 'module.densenet121.features.denseblock3.denselayer5.norm.1.running_var', 'module.densenet121.features.denseblock3.denselayer5.conv.1.weight', 'module.densenet121.features.denseblock3.denselayer5.norm.2.weight', 'module.densenet121.features.denseblock3.denselayer5.norm.2.bias', 'module.densenet121.features.denseblock3.denselayer5.norm.2.running_mean', 'module.densenet121.features.denseblock3.denselayer5.norm.2.running_var', 'module.densenet121.features.denseblock3.denselayer5.conv.2.weight', 'module.densenet121.features.denseblock3.denselayer6.norm.1.weight', 'module.densenet121.features.denseblock3.denselayer6.norm.1.bias', 'module.densenet121.features.denseblock3.denselayer6.norm.1.running_mean', 'module.densenet121.features.denseblock3.denselayer6.norm.1.running_var', 'module.densenet121.features.denseblock3.denselayer6.conv.1.weight', 'module.densenet121.features.denseblock3.denselayer6.norm.2.weight', 'module.densenet121.features.denseblock3.denselayer6.norm.2.bias', 'module.densenet121.features.denseblock3.denselayer6.norm.2.running_mean', 'module.densenet121.features.denseblock3.denselayer6.norm.2.running_var', 'module.densenet121.features.denseblock3.denselayer6.conv.2.weight', 'module.densenet121.features.denseblock3.denselayer7.norm.1.weight', 'module.densenet121.features.denseblock3.denselayer7.norm.1.bias', 'module.densenet121.features.denseblock3.denselayer7.norm.1.running_mean', 'module.densenet121.features.denseblock3.denselayer7.norm.1.running_var', 'module.densenet121.features.denseblock3.denselayer7.conv.1.weight', 'module.densenet121.features.denseblock3.denselayer7.norm.2.weight', 'module.densenet121.features.denseblock3.denselayer7.norm.2.bias', 'module.densenet121.features.denseblock3.denselayer7.norm.2.running_mean', 'module.densenet121.features.denseblock3.denselayer7.norm.2.running_var', 'module.densenet121.features.denseblock3.denselayer7.conv.2.weight', 'module.densenet121.features.denseblock3.denselayer8.norm.1.weight', 'module.densenet121.features.denseblock3.denselayer8.norm.1.bias', 'module.densenet121.features.denseblock3.denselayer8.norm.1.running_mean', 'module.densenet121.features.denseblock3.denselayer8.norm.1.running_var', 'module.densenet121.features.denseblock3.denselayer8.conv.1.weight', 'module.densenet121.features.denseblock3.denselayer8.norm.2.weight', 'module.densenet121.features.denseblock3.denselayer8.norm.2.bias', 'module.densenet121.features.denseblock3.denselayer8.norm.2.running_mean', 'module.densenet121.features.denseblock3.denselayer8.norm.2.running_var', 'module.densenet121.features.denseblock3.denselayer8.conv.2.weight', 'module.densenet121.features.denseblock3.denselayer9.norm.1.weight', 'module.densenet121.features.denseblock3.denselayer9.norm.1.bias', 'module.densenet121.features.denseblock3.denselayer9.norm.1.running_mean', 'module.densenet121.features.denseblock3.denselayer9.norm.1.running_var', 'module.densenet121.features.denseblock3.denselayer9.conv.1.weight', 'module.densenet121.features.denseblock3.denselayer9.norm.2.weight', 'module.densenet121.features.denseblock3.denselayer9.norm.2.bias', 'module.densenet121.features.denseblock3.denselayer9.norm.2.running_mean', 'module.densenet121.features.denseblock3.denselayer9.norm.2.running_var', 'module.densenet121.features.denseblock3.denselayer9.conv.2.weight', 'module.densenet121.features.denseblock3.denselayer10.norm.1.weight', 'module.densenet121.features.denseblock3.denselayer10.norm.1.bias', 'module.densenet121.features.denseblock3.denselayer10.norm.1.running_mean', 'module.densenet121.features.denseblock3.denselayer10.norm.1.running_var', 'module.densenet121.features.denseblock3.denselayer10.conv.1.weight', 'module.densenet121.features.denseblock3.denselayer10.norm.2.weight', 'module.densenet121.features.denseblock3.denselayer10.norm.2.bias', 'module.densenet121.features.denseblock3.denselayer10.norm.2.running_mean', 'module.densenet121.features.denseblock3.denselayer10.norm.2.running_var', 'module.densenet121.features.denseblock3.denselayer10.conv.2.weight', 'module.densenet121.features.denseblock3.denselayer11.norm.1.weight', 'module.densenet121.features.denseblock3.denselayer11.norm.1.bias', 'module.densenet121.features.denseblock3.denselayer11.norm.1.running_mean', 'module.densenet121.features.denseblock3.denselayer11.norm.1.running_var', 'module.densenet121.features.denseblock3.denselayer11.conv.1.weight', 'module.densenet121.features.denseblock3.denselayer11.norm.2.weight', 'module.densenet121.features.denseblock3.denselayer11.norm.2.bias', 'module.densenet121.features.denseblock3.denselayer11.norm.2.running_mean', 'module.densenet121.features.denseblock3.denselayer11.norm.2.running_var', 'module.densenet121.features.denseblock3.denselayer11.conv.2.weight', 'module.densenet121.features.denseblock3.denselayer12.norm.1.weight', 'module.densenet121.features.denseblock3.denselayer12.norm.1.bias', 'module.densenet121.features.denseblock3.denselayer12.norm.1.running_mean', 'module.densenet121.features.denseblock3.denselayer12.norm.1.running_var', 'module.densenet121.features.denseblock3.denselayer12.conv.1.weight', 'module.densenet121.features.denseblock3.denselayer12.norm.2.weight', 'module.densenet121.features.denseblock3.denselayer12.norm.2.bias', 'module.densenet121.features.denseblock3.denselayer12.norm.2.running_mean', 'module.densenet121.features.denseblock3.denselayer12.norm.2.running_var', 'module.densenet121.features.denseblock3.denselayer12.conv.2.weight', 'module.densenet121.features.denseblock3.denselayer13.norm.1.weight', 'module.densenet121.features.denseblock3.denselayer13.norm.1.bias', 'module.densenet121.features.denseblock3.denselayer13.norm.1.running_mean', 'module.densenet121.features.denseblock3.denselayer13.norm.1.running_var', 'module.densenet121.features.denseblock3.denselayer13.conv.1.weight', 'module.densenet121.features.denseblock3.denselayer13.norm.2.weight', 'module.densenet121.features.denseblock3.denselayer13.norm.2.bias', 'module.densenet121.features.denseblock3.denselayer13.norm.2.running_mean', 'module.densenet121.features.denseblock3.denselayer13.norm.2.running_var', 'module.densenet121.features.denseblock3.denselayer13.conv.2.weight', 'module.densenet121.features.denseblock3.denselayer14.norm.1.weight', 'module.densenet121.features.denseblock3.denselayer14.norm.1.bias', 'module.densenet121.features.denseblock3.denselayer14.norm.1.running_mean', 'module.densenet121.features.denseblock3.denselayer14.norm.1.running_var', 'module.densenet121.features.denseblock3.denselayer14.conv.1.weight', 'module.densenet121.features.denseblock3.denselayer14.norm.2.weight', 'module.densenet121.features.denseblock3.denselayer14.norm.2.bias', 'module.densenet121.features.denseblock3.denselayer14.norm.2.running_mean', 'module.densenet121.features.denseblock3.denselayer14.norm.2.running_var', 'module.densenet121.features.denseblock3.denselayer14.conv.2.weight', 'module.densenet121.features.denseblock3.denselayer15.norm.1.weight', 'module.densenet121.features.denseblock3.denselayer15.norm.1.bias', 'module.densenet121.features.denseblock3.denselayer15.norm.1.running_mean', 'module.densenet121.features.denseblock3.denselayer15.norm.1.running_var', 'module.densenet121.features.denseblock3.denselayer15.conv.1.weight', 'module.densenet121.features.denseblock3.denselayer15.norm.2.weight', 'module.densenet121.features.denseblock3.denselayer15.norm.2.bias', 'module.densenet121.features.denseblock3.denselayer15.norm.2.running_mean', 'module.densenet121.features.denseblock3.denselayer15.norm.2.running_var', 'module.densenet121.features.denseblock3.denselayer15.conv.2.weight', 'module.densenet121.features.denseblock3.denselayer16.norm.1.weight', 'module.densenet121.features.denseblock3.denselayer16.norm.1.bias', 'module.densenet121.features.denseblock3.denselayer16.norm.1.running_mean', 'module.densenet121.features.denseblock3.denselayer16.norm.1.running_var', 'module.densenet121.features.denseblock3.denselayer16.conv.1.weight', 'module.densenet121.features.denseblock3.denselayer16.norm.2.weight', 'module.densenet121.features.denseblock3.denselayer16.norm.2.bias', 'module.densenet121.features.denseblock3.denselayer16.norm.2.running_mean', 'module.densenet121.features.denseblock3.denselayer16.norm.2.running_var', 'module.densenet121.features.denseblock3.denselayer16.conv.2.weight', 'module.densenet121.features.denseblock3.denselayer17.norm.1.weight', 'module.densenet121.features.denseblock3.denselayer17.norm.1.bias', 'module.densenet121.features.denseblock3.denselayer17.norm.1.running_mean', 'module.densenet121.features.denseblock3.denselayer17.norm.1.running_var', 'module.densenet121.features.denseblock3.denselayer17.conv.1.weight', 'module.densenet121.features.denseblock3.denselayer17.norm.2.weight', 'module.densenet121.features.denseblock3.denselayer17.norm.2.bias', 'module.densenet121.features.denseblock3.denselayer17.norm.2.running_mean', 'module.densenet121.features.denseblock3.denselayer17.norm.2.running_var', 'module.densenet121.features.denseblock3.denselayer17.conv.2.weight', 'module.densenet121.features.denseblock3.denselayer18.norm.1.weight', 'module.densenet121.features.denseblock3.denselayer18.norm.1.bias', 'module.densenet121.features.denseblock3.denselayer18.norm.1.running_mean', 'module.densenet121.features.denseblock3.denselayer18.norm.1.running_var', 'module.densenet121.features.denseblock3.denselayer18.conv.1.weight', 'module.densenet121.features.denseblock3.denselayer18.norm.2.weight', 'module.densenet121.features.denseblock3.denselayer18.norm.2.bias', 'module.densenet121.features.denseblock3.denselayer18.norm.2.running_mean', 'module.densenet121.features.denseblock3.denselayer18.norm.2.running_var', 'module.densenet121.features.denseblock3.denselayer18.conv.2.weight', 'module.densenet121.features.denseblock3.denselayer19.norm.1.weight', 'module.densenet121.features.denseblock3.denselayer19.norm.1.bias', 'module.densenet121.features.denseblock3.denselayer19.norm.1.running_mean', 'module.densenet121.features.denseblock3.denselayer19.norm.1.running_var', 'module.densenet121.features.denseblock3.denselayer19.conv.1.weight', 'module.densenet121.features.denseblock3.denselayer19.norm.2.weight', 'module.densenet121.features.denseblock3.denselayer19.norm.2.bias', 'module.densenet121.features.denseblock3.denselayer19.norm.2.running_mean', 'module.densenet121.features.denseblock3.denselayer19.norm.2.running_var', 'module.densenet121.features.denseblock3.denselayer19.conv.2.weight', 'module.densenet121.features.denseblock3.denselayer20.norm.1.weight', 'module.densenet121.features.denseblock3.denselayer20.norm.1.bias', 'module.densenet121.features.denseblock3.denselayer20.norm.1.running_mean', 'module.densenet121.features.denseblock3.denselayer20.norm.1.running_var', 'module.densenet121.features.denseblock3.denselayer20.conv.1.weight', 'module.densenet121.features.denseblock3.denselayer20.norm.2.weight', 'module.densenet121.features.denseblock3.denselayer20.norm.2.bias', 'module.densenet121.features.denseblock3.denselayer20.norm.2.running_mean', 'module.densenet121.features.denseblock3.denselayer20.norm.2.running_var', 'module.densenet121.features.denseblock3.denselayer20.conv.2.weight', 'module.densenet121.features.denseblock3.denselayer21.norm.1.weight', 'module.densenet121.features.denseblock3.denselayer21.norm.1.bias', 'module.densenet121.features.denseblock3.denselayer21.norm.1.running_mean', 'module.densenet121.features.denseblock3.denselayer21.norm.1.running_var', 'module.densenet121.features.denseblock3.denselayer21.conv.1.weight', 'module.densenet121.features.denseblock3.denselayer21.norm.2.weight', 'module.densenet121.features.denseblock3.denselayer21.norm.2.bias', 'module.densenet121.features.denseblock3.denselayer21.norm.2.running_mean', 'module.densenet121.features.denseblock3.denselayer21.norm.2.running_var', 'module.densenet121.features.denseblock3.denselayer21.conv.2.weight', 'module.densenet121.features.denseblock3.denselayer22.norm.1.weight', 'module.densenet121.features.denseblock3.denselayer22.norm.1.bias', 'module.densenet121.features.denseblock3.denselayer22.norm.1.running_mean', 'module.densenet121.features.denseblock3.denselayer22.norm.1.running_var', 'module.densenet121.features.denseblock3.denselayer22.conv.1.weight', 'module.densenet121.features.denseblock3.denselayer22.norm.2.weight', 'module.densenet121.features.denseblock3.denselayer22.norm.2.bias', 'module.densenet121.features.denseblock3.denselayer22.norm.2.running_mean', 'module.densenet121.features.denseblock3.denselayer22.norm.2.running_var', 'module.densenet121.features.denseblock3.denselayer22.conv.2.weight', 'module.densenet121.features.denseblock3.denselayer23.norm.1.weight', 'module.densenet121.features.denseblock3.denselayer23.norm.1.bias', 'module.densenet121.features.denseblock3.denselayer23.norm.1.running_mean', 'module.densenet121.features.denseblock3.denselayer23.norm.1.running_var', 'module.densenet121.features.denseblock3.denselayer23.conv.1.weight', 'module.densenet121.features.denseblock3.denselayer23.norm.2.weight', 'module.densenet121.features.denseblock3.denselayer23.norm.2.bias', 'module.densenet121.features.denseblock3.denselayer23.norm.2.running_mean', 'module.densenet121.features.denseblock3.denselayer23.norm.2.running_var', 'module.densenet121.features.denseblock3.denselayer23.conv.2.weight', 'module.densenet121.features.denseblock3.denselayer24.norm.1.weight', 'module.densenet121.features.denseblock3.denselayer24.norm.1.bias', 'module.densenet121.features.denseblock3.denselayer24.norm.1.running_mean', 'module.densenet121.features.denseblock3.denselayer24.norm.1.running_var', 'module.densenet121.features.denseblock3.denselayer24.conv.1.weight', 'module.densenet121.features.denseblock3.denselayer24.norm.2.weight', 'module.densenet121.features.denseblock3.denselayer24.norm.2.bias', 'module.densenet121.features.denseblock3.denselayer24.norm.2.running_mean', 'module.densenet121.features.denseblock3.denselayer24.norm.2.running_var', 'module.densenet121.features.denseblock3.denselayer24.conv.2.weight', 'module.densenet121.features.transition3.norm.weight', 'module.densenet121.features.transition3.norm.bias', 'module.densenet121.features.transition3.norm.running_mean', 'module.densenet121.features.transition3.norm.running_var', 'module.densenet121.features.transition3.conv.weight', 'module.densenet121.features.denseblock4.denselayer1.norm.1.weight', 'module.densenet121.features.denseblock4.denselayer1.norm.1.bias', 'module.densenet121.features.denseblock4.denselayer1.norm.1.running_mean', 'module.densenet121.features.denseblock4.denselayer1.norm.1.running_var', 'module.densenet121.features.denseblock4.denselayer1.conv.1.weight', 'module.densenet121.features.denseblock4.denselayer1.norm.2.weight', 'module.densenet121.features.denseblock4.denselayer1.norm.2.bias', 'module.densenet121.features.denseblock4.denselayer1.norm.2.running_mean', 'module.densenet121.features.denseblock4.denselayer1.norm.2.running_var', 'module.densenet121.features.denseblock4.denselayer1.conv.2.weight', 'module.densenet121.features.denseblock4.denselayer2.norm.1.weight', 'module.densenet121.features.denseblock4.denselayer2.norm.1.bias', 'module.densenet121.features.denseblock4.denselayer2.norm.1.running_mean', 'module.densenet121.features.denseblock4.denselayer2.norm.1.running_var', 'module.densenet121.features.denseblock4.denselayer2.conv.1.weight', 'module.densenet121.features.denseblock4.denselayer2.norm.2.weight', 'module.densenet121.features.denseblock4.denselayer2.norm.2.bias', 'module.densenet121.features.denseblock4.denselayer2.norm.2.running_mean', 'module.densenet121.features.denseblock4.denselayer2.norm.2.running_var', 'module.densenet121.features.denseblock4.denselayer2.conv.2.weight', 'module.densenet121.features.denseblock4.denselayer3.norm.1.weight', 'module.densenet121.features.denseblock4.denselayer3.norm.1.bias', 'module.densenet121.features.denseblock4.denselayer3.norm.1.running_mean', 'module.densenet121.features.denseblock4.denselayer3.norm.1.running_var', 'module.densenet121.features.denseblock4.denselayer3.conv.1.weight', 'module.densenet121.features.denseblock4.denselayer3.norm.2.weight', 'module.densenet121.features.denseblock4.denselayer3.norm.2.bias', 'module.densenet121.features.denseblock4.denselayer3.norm.2.running_mean', 'module.densenet121.features.denseblock4.denselayer3.norm.2.running_var', 'module.densenet121.features.denseblock4.denselayer3.conv.2.weight', 'module.densenet121.features.denseblock4.denselayer4.norm.1.weight', 'module.densenet121.features.denseblock4.denselayer4.norm.1.bias', 'module.densenet121.features.denseblock4.denselayer4.norm.1.running_mean', 'module.densenet121.features.denseblock4.denselayer4.norm.1.running_var', 'module.densenet121.features.denseblock4.denselayer4.conv.1.weight', 'module.densenet121.features.denseblock4.denselayer4.norm.2.weight', 'module.densenet121.features.denseblock4.denselayer4.norm.2.bias', 'module.densenet121.features.denseblock4.denselayer4.norm.2.running_mean', 'module.densenet121.features.denseblock4.denselayer4.norm.2.running_var', 'module.densenet121.features.denseblock4.denselayer4.conv.2.weight', 'module.densenet121.features.denseblock4.denselayer5.norm.1.weight', 'module.densenet121.features.denseblock4.denselayer5.norm.1.bias', 'module.densenet121.features.denseblock4.denselayer5.norm.1.running_mean', 'module.densenet121.features.denseblock4.denselayer5.norm.1.running_var', 'module.densenet121.features.denseblock4.denselayer5.conv.1.weight', 'module.densenet121.features.denseblock4.denselayer5.norm.2.weight', 'module.densenet121.features.denseblock4.denselayer5.norm.2.bias', 'module.densenet121.features.denseblock4.denselayer5.norm.2.running_mean', 'module.densenet121.features.denseblock4.denselayer5.norm.2.running_var', 'module.densenet121.features.denseblock4.denselayer5.conv.2.weight', 'module.densenet121.features.denseblock4.denselayer6.norm.1.weight', 'module.densenet121.features.denseblock4.denselayer6.norm.1.bias', 'module.densenet121.features.denseblock4.denselayer6.norm.1.running_mean', 'module.densenet121.features.denseblock4.denselayer6.norm.1.running_var', 'module.densenet121.features.denseblock4.denselayer6.conv.1.weight', 'module.densenet121.features.denseblock4.denselayer6.norm.2.weight', 'module.densenet121.features.denseblock4.denselayer6.norm.2.bias', 'module.densenet121.features.denseblock4.denselayer6.norm.2.running_mean', 'module.densenet121.features.denseblock4.denselayer6.norm.2.running_var', 'module.densenet121.features.denseblock4.denselayer6.conv.2.weight', 'module.densenet121.features.denseblock4.denselayer7.norm.1.weight', 'module.densenet121.features.denseblock4.denselayer7.norm.1.bias', 'module.densenet121.features.denseblock4.denselayer7.norm.1.running_mean', 'module.densenet121.features.denseblock4.denselayer7.norm.1.running_var', 'module.densenet121.features.denseblock4.denselayer7.conv.1.weight', 'module.densenet121.features.denseblock4.denselayer7.norm.2.weight', 'module.densenet121.features.denseblock4.denselayer7.norm.2.bias', 'module.densenet121.features.denseblock4.denselayer7.norm.2.running_mean', 'module.densenet121.features.denseblock4.denselayer7.norm.2.running_var', 'module.densenet121.features.denseblock4.denselayer7.conv.2.weight', 'module.densenet121.features.denseblock4.denselayer8.norm.1.weight', 'module.densenet121.features.denseblock4.denselayer8.norm.1.bias', 'module.densenet121.features.denseblock4.denselayer8.norm.1.running_mean', 'module.densenet121.features.denseblock4.denselayer8.norm.1.running_var', 'module.densenet121.features.denseblock4.denselayer8.conv.1.weight', 'module.densenet121.features.denseblock4.denselayer8.norm.2.weight', 'module.densenet121.features.denseblock4.denselayer8.norm.2.bias', 'module.densenet121.features.denseblock4.denselayer8.norm.2.running_mean', 'module.densenet121.features.denseblock4.denselayer8.norm.2.running_var', 'module.densenet121.features.denseblock4.denselayer8.conv.2.weight', 'module.densenet121.features.denseblock4.denselayer9.norm.1.weight', 'module.densenet121.features.denseblock4.denselayer9.norm.1.bias', 'module.densenet121.features.denseblock4.denselayer9.norm.1.running_mean', 'module.densenet121.features.denseblock4.denselayer9.norm.1.running_var', 'module.densenet121.features.denseblock4.denselayer9.conv.1.weight', 'module.densenet121.features.denseblock4.denselayer9.norm.2.weight', 'module.densenet121.features.denseblock4.denselayer9.norm.2.bias', 'module.densenet121.features.denseblock4.denselayer9.norm.2.running_mean', 'module.densenet121.features.denseblock4.denselayer9.norm.2.running_var', 'module.densenet121.features.denseblock4.denselayer9.conv.2.weight', 'module.densenet121.features.denseblock4.denselayer10.norm.1.weight', 'module.densenet121.features.denseblock4.denselayer10.norm.1.bias', 'module.densenet121.features.denseblock4.denselayer10.norm.1.running_mean', 'module.densenet121.features.denseblock4.denselayer10.norm.1.running_var', 'module.densenet121.features.denseblock4.denselayer10.conv.1.weight', 'module.densenet121.features.denseblock4.denselayer10.norm.2.weight', 'module.densenet121.features.denseblock4.denselayer10.norm.2.bias', 'module.densenet121.features.denseblock4.denselayer10.norm.2.running_mean', 'module.densenet121.features.denseblock4.denselayer10.norm.2.running_var', 'module.densenet121.features.denseblock4.denselayer10.conv.2.weight', 'module.densenet121.features.denseblock4.denselayer11.norm.1.weight', 'module.densenet121.features.denseblock4.denselayer11.norm.1.bias', 'module.densenet121.features.denseblock4.denselayer11.norm.1.running_mean', 'module.densenet121.features.denseblock4.denselayer11.norm.1.running_var', 'module.densenet121.features.denseblock4.denselayer11.conv.1.weight', 'module.densenet121.features.denseblock4.denselayer11.norm.2.weight', 'module.densenet121.features.denseblock4.denselayer11.norm.2.bias', 'module.densenet121.features.denseblock4.denselayer11.norm.2.running_mean', 'module.densenet121.features.denseblock4.denselayer11.norm.2.running_var', 'module.densenet121.features.denseblock4.denselayer11.conv.2.weight', 'module.densenet121.features.denseblock4.denselayer12.norm.1.weight', 'module.densenet121.features.denseblock4.denselayer12.norm.1.bias', 'module.densenet121.features.denseblock4.denselayer12.norm.1.running_mean', 'module.densenet121.features.denseblock4.denselayer12.norm.1.running_var', 'module.densenet121.features.denseblock4.denselayer12.conv.1.weight', 'module.densenet121.features.denseblock4.denselayer12.norm.2.weight', 'module.densenet121.features.denseblock4.denselayer12.norm.2.bias', 'module.densenet121.features.denseblock4.denselayer12.norm.2.running_mean', 'module.densenet121.features.denseblock4.denselayer12.norm.2.running_var', 'module.densenet121.features.denseblock4.denselayer12.conv.2.weight', 'module.densenet121.features.denseblock4.denselayer13.norm.1.weight', 'module.densenet121.features.denseblock4.denselayer13.norm.1.bias', 'module.densenet121.features.denseblock4.denselayer13.norm.1.running_mean', 'module.densenet121.features.denseblock4.denselayer13.norm.1.running_var', 'module.densenet121.features.denseblock4.denselayer13.conv.1.weight', 'module.densenet121.features.denseblock4.denselayer13.norm.2.weight', 'module.densenet121.features.denseblock4.denselayer13.norm.2.bias', 'module.densenet121.features.denseblock4.denselayer13.norm.2.running_mean', 'module.densenet121.features.denseblock4.denselayer13.norm.2.running_var', 'module.densenet121.features.denseblock4.denselayer13.conv.2.weight', 'module.densenet121.features.denseblock4.denselayer14.norm.1.weight', 'module.densenet121.features.denseblock4.denselayer14.norm.1.bias', 'module.densenet121.features.denseblock4.denselayer14.norm.1.running_mean', 'module.densenet121.features.denseblock4.denselayer14.norm.1.running_var', 'module.densenet121.features.denseblock4.denselayer14.conv.1.weight', 'module.densenet121.features.denseblock4.denselayer14.norm.2.weight', 'module.densenet121.features.denseblock4.denselayer14.norm.2.bias', 'module.densenet121.features.denseblock4.denselayer14.norm.2.running_mean', 'module.densenet121.features.denseblock4.denselayer14.norm.2.running_var', 'module.densenet121.features.denseblock4.denselayer14.conv.2.weight', 'module.densenet121.features.denseblock4.denselayer15.norm.1.weight', 'module.densenet121.features.denseblock4.denselayer15.norm.1.bias', 'module.densenet121.features.denseblock4.denselayer15.norm.1.running_mean', 'module.densenet121.features.denseblock4.denselayer15.norm.1.running_var', 'module.densenet121.features.denseblock4.denselayer15.conv.1.weight', 'module.densenet121.features.denseblock4.denselayer15.norm.2.weight', 'module.densenet121.features.denseblock4.denselayer15.norm.2.bias', 'module.densenet121.features.denseblock4.denselayer15.norm.2.running_mean', 'module.densenet121.features.denseblock4.denselayer15.norm.2.running_var', 'module.densenet121.features.denseblock4.denselayer15.conv.2.weight', 'module.densenet121.features.denseblock4.denselayer16.norm.1.weight', 'module.densenet121.features.denseblock4.denselayer16.norm.1.bias', 'module.densenet121.features.denseblock4.denselayer16.norm.1.running_mean', 'module.densenet121.features.denseblock4.denselayer16.norm.1.running_var', 'module.densenet121.features.denseblock4.denselayer16.conv.1.weight', 'module.densenet121.features.denseblock4.denselayer16.norm.2.weight', 'module.densenet121.features.denseblock4.denselayer16.norm.2.bias', 'module.densenet121.features.denseblock4.denselayer16.norm.2.running_mean', 'module.densenet121.features.denseblock4.denselayer16.norm.2.running_var', 'module.densenet121.features.denseblock4.denselayer16.conv.2.weight', 'module.densenet121.features.norm5.weight', 'module.densenet121.features.norm5.bias', 'module.densenet121.features.norm5.running_mean', 'module.densenet121.features.norm5.running_var', 'module.densenet121.classifier.0.weight', 'module.densenet121.classifier.0.bias'])\n"
          ],
          "name": "stdout"
        }
      ]
    },
    {
      "cell_type": "code",
      "metadata": {
        "id": "dN0k22GIc7jJ",
        "colab_type": "code",
        "colab": {
          "base_uri": "https://localhost:8080/",
          "height": 141
        },
        "outputId": "66693dc9-5d62-49f8-f23b-f44e884e6984"
      },
      "source": [
        "!unzip deepQ_25.zip"
      ],
      "execution_count": 36,
      "outputs": [
        {
          "output_type": "stream",
          "text": [
            "Archive:  deepQ_25.zip\n",
            "replace requirements3.txt? [y]es, [n]o, [A]ll, [N]one, [r]ename: y\n",
            "  inflating: requirements3.txt       \n",
            "replace thresholds.npy? [y]es, [n]o, [A]ll, [N]one, [r]ename: y\n",
            "  inflating: thresholds.npy          \n",
            "  inflating: DenseNet121_aug4_pretrain_WeightBelow1_1_0.829766922537.pkl  \n",
            "  inflating: inference.py            \n"
          ],
          "name": "stdout"
        }
      ]
    },
    {
      "cell_type": "code",
      "metadata": {
        "id": "nJlFl280NWnc",
        "colab_type": "code",
        "colab": {
          "base_uri": "https://localhost:8080/",
          "height": 1000
        },
        "outputId": "cf287eef-6363-44d6-c8b6-0b5e5449b3b4"
      },
      "source": [
        "!pip install -r requirements3.txt"
      ],
      "execution_count": 38,
      "outputs": [
        {
          "output_type": "stream",
          "text": [
            "Collecting scikit-image==0.13.1\n",
            "\u001b[?25l  Downloading https://files.pythonhosted.org/packages/60/0e/75fbf63c3b7a14fdbfaf92ca77035c18e90963003031148211bf12441be7/scikit_image-0.13.1-cp36-cp36m-manylinux1_x86_64.whl (35.8MB)\n",
            "\u001b[K     |████████████████████████████████| 35.8MB 203kB/s \n",
            "\u001b[?25hCollecting opencv_python==3.4.0.12\n",
            "\u001b[?25l  Downloading https://files.pythonhosted.org/packages/50/f9/5c454f0f52788a913979877e6ed9b2454a9c7676581a0ee3a2d81db784a6/opencv_python-3.4.0.12-cp36-cp36m-manylinux1_x86_64.whl (24.9MB)\n",
            "\u001b[K     |████████████████████████████████| 24.9MB 4.5MB/s \n",
            "\u001b[?25hCollecting numpy==1.13.3\n",
            "\u001b[?25l  Downloading https://files.pythonhosted.org/packages/57/a7/e3e6bd9d595125e1abbe162e323fd2d06f6f6683185294b79cd2cdb190d5/numpy-1.13.3-cp36-cp36m-manylinux1_x86_64.whl (17.0MB)\n",
            "\u001b[K     |████████████████████████████████| 17.0MB 31.7MB/s \n",
            "\u001b[?25hCollecting matplotlib==2.1.1\n",
            "\u001b[?25l  Downloading https://files.pythonhosted.org/packages/34/50/d1649dafaecc91e360b1ca8defebb25f865e29928a98bc7d42ba3b1350e5/matplotlib-2.1.1-cp36-cp36m-manylinux1_x86_64.whl (15.0MB)\n",
            "\u001b[K     |████████████████████████████████| 15.0MB 19.3MB/s \n",
            "\u001b[?25hCollecting scipy==1.0.0\n",
            "\u001b[?25l  Downloading https://files.pythonhosted.org/packages/d8/5e/caa01ba7be11600b6a9d39265440d7b3be3d69206da887c42bef049521f2/scipy-1.0.0-cp36-cp36m-manylinux1_x86_64.whl (50.0MB)\n",
            "\u001b[K     |████████████████████████████████| 50.0MB 133kB/s \n",
            "\u001b[?25hRequirement already satisfied: networkx>=1.8 in /usr/local/lib/python3.6/dist-packages (from scikit-image==0.13.1->-r requirements3.txt (line 1)) (2.4)\n",
            "Requirement already satisfied: six>=1.7.3 in /usr/local/lib/python3.6/dist-packages (from scikit-image==0.13.1->-r requirements3.txt (line 1)) (1.12.0)\n",
            "Requirement already satisfied: pillow>=2.1.0 in /usr/local/lib/python3.6/dist-packages (from scikit-image==0.13.1->-r requirements3.txt (line 1)) (4.3.0)\n",
            "Requirement already satisfied: PyWavelets>=0.4.0 in /usr/local/lib/python3.6/dist-packages (from scikit-image==0.13.1->-r requirements3.txt (line 1)) (1.1.1)\n",
            "Requirement already satisfied: python-dateutil>=2.0 in /usr/local/lib/python3.6/dist-packages (from matplotlib==2.1.1->-r requirements3.txt (line 4)) (2.6.1)\n",
            "Requirement already satisfied: pytz in /usr/local/lib/python3.6/dist-packages (from matplotlib==2.1.1->-r requirements3.txt (line 4)) (2018.9)\n",
            "Requirement already satisfied: pyparsing!=2.0.4,!=2.1.2,!=2.1.6,>=2.0.1 in /usr/local/lib/python3.6/dist-packages (from matplotlib==2.1.1->-r requirements3.txt (line 4)) (2.4.5)\n",
            "Requirement already satisfied: cycler>=0.10 in /usr/local/lib/python3.6/dist-packages (from matplotlib==2.1.1->-r requirements3.txt (line 4)) (0.10.0)\n",
            "Requirement already satisfied: decorator>=4.3.0 in /usr/local/lib/python3.6/dist-packages (from networkx>=1.8->scikit-image==0.13.1->-r requirements3.txt (line 1)) (4.4.1)\n",
            "Requirement already satisfied: olefile in /usr/local/lib/python3.6/dist-packages (from pillow>=2.1.0->scikit-image==0.13.1->-r requirements3.txt (line 1)) (0.46)\n",
            "\u001b[31mERROR: tensorflow 1.15.0 has requirement numpy<2.0,>=1.16.0, but you'll have numpy 1.13.3 which is incompatible.\u001b[0m\n",
            "\u001b[31mERROR: spacy 2.1.9 has requirement numpy>=1.15.0, but you'll have numpy 1.13.3 which is incompatible.\u001b[0m\n",
            "\u001b[31mERROR: pyarrow 0.14.1 has requirement numpy>=1.14, but you'll have numpy 1.13.3 which is incompatible.\u001b[0m\n",
            "\u001b[31mERROR: plotnine 0.5.1 has requirement matplotlib>=3.0.0, but you'll have matplotlib 2.1.1 which is incompatible.\u001b[0m\n",
            "\u001b[31mERROR: imgaug 0.2.9 has requirement numpy>=1.15.0, but you'll have numpy 1.13.3 which is incompatible.\u001b[0m\n",
            "\u001b[31mERROR: fastai 1.0.59 has requirement numpy>=1.15, but you'll have numpy 1.13.3 which is incompatible.\u001b[0m\n",
            "\u001b[31mERROR: dopamine-rl 1.0.5 has requirement opencv-python>=3.4.1.15, but you'll have opencv-python 3.4.0.12 which is incompatible.\u001b[0m\n",
            "\u001b[31mERROR: datascience 0.10.6 has requirement folium==0.2.1, but you'll have folium 0.8.3 which is incompatible.\u001b[0m\n",
            "\u001b[31mERROR: cvxpy 1.0.25 has requirement numpy>=1.15, but you'll have numpy 1.13.3 which is incompatible.\u001b[0m\n",
            "\u001b[31mERROR: cvxpy 1.0.25 has requirement scipy>=1.1.0, but you'll have scipy 1.0.0 which is incompatible.\u001b[0m\n",
            "\u001b[31mERROR: blis 0.2.4 has requirement numpy>=1.15.0, but you'll have numpy 1.13.3 which is incompatible.\u001b[0m\n",
            "\u001b[31mERROR: albumentations 0.1.12 has requirement imgaug<0.2.7,>=0.2.5, but you'll have imgaug 0.2.9 which is incompatible.\u001b[0m\n",
            "Installing collected packages: numpy, scipy, matplotlib, scikit-image, opencv-python\n",
            "  Found existing installation: numpy 1.17.4\n",
            "    Uninstalling numpy-1.17.4:\n",
            "      Successfully uninstalled numpy-1.17.4\n",
            "  Found existing installation: scipy 1.3.2\n",
            "    Uninstalling scipy-1.3.2:\n",
            "      Successfully uninstalled scipy-1.3.2\n",
            "  Found existing installation: matplotlib 3.1.1\n",
            "    Uninstalling matplotlib-3.1.1:\n",
            "      Successfully uninstalled matplotlib-3.1.1\n",
            "  Found existing installation: scikit-image 0.15.0\n",
            "    Uninstalling scikit-image-0.15.0:\n",
            "      Successfully uninstalled scikit-image-0.15.0\n",
            "  Found existing installation: opencv-python 3.4.7.28\n",
            "    Uninstalling opencv-python-3.4.7.28:\n",
            "      Successfully uninstalled opencv-python-3.4.7.28\n",
            "Successfully installed matplotlib-2.1.1 numpy-1.13.3 opencv-python-3.4.0.12 scikit-image-0.13.1 scipy-1.0.0\n"
          ],
          "name": "stdout"
        },
        {
          "output_type": "display_data",
          "data": {
            "application/vnd.colab-display-data+json": {
              "pip_warning": {
                "packages": [
                  "matplotlib",
                  "mpl_toolkits",
                  "numpy",
                  "scipy"
                ]
              }
            }
          },
          "metadata": {
            "tags": []
          }
        }
      ]
    },
    {
      "cell_type": "code",
      "metadata": {
        "id": "ixyPtyOxNEDj",
        "colab_type": "code",
        "colab": {
          "base_uri": "https://localhost:8080/",
          "height": 87
        },
        "outputId": "4cea4c40-2d28-4de3-9e96-6033039b34b4"
      },
      "source": [
        "!python inference.py"
      ],
      "execution_count": 39,
      "outputs": [
        {
          "output_type": "stream",
          "text": [
            "Traceback (most recent call last):\n",
            "  File \"inference.py\", line 4, in <module>\n",
            "    import judger_medical as judger\n",
            "ModuleNotFoundError: No module named 'judger_medical'\n"
          ],
          "name": "stdout"
        }
      ]
    },
    {
      "cell_type": "code",
      "metadata": {
        "id": "x4mW6R8LNTsB",
        "colab_type": "code",
        "colab": {
          "base_uri": "https://localhost:8080/",
          "height": 52
        },
        "outputId": "f7bd44f3-e6f3-447b-95fd-fc5d0895f05d"
      },
      "source": [
        "!pip install judger_medical"
      ],
      "execution_count": 40,
      "outputs": [
        {
          "output_type": "stream",
          "text": [
            "\u001b[31mERROR: Could not find a version that satisfies the requirement judger_medical (from versions: none)\u001b[0m\n",
            "\u001b[31mERROR: No matching distribution found for judger_medical\u001b[0m\n"
          ],
          "name": "stdout"
        }
      ]
    },
    {
      "cell_type": "code",
      "metadata": {
        "id": "5Ezwh1YuN0ZY",
        "colab_type": "code",
        "colab": {
          "base_uri": "https://localhost:8080/",
          "height": 176
        },
        "outputId": "bb4fb122-1e62-4765-9c3d-19360a6485f7"
      },
      "source": [
        "!unzip deepQ_24.zip"
      ],
      "execution_count": 41,
      "outputs": [
        {
          "output_type": "stream",
          "text": [
            "Archive:  deepQ_24.zip\n",
            "replace requirements3.txt? [y]es, [n]o, [A]ll, [N]one, [r]ename: y\n",
            "  inflating: requirements3.txt       \n",
            "replace thresholds.npy? [y]es, [n]o, [A]ll, [N]one, [r]ename: y\n",
            "  inflating: thresholds.npy          \n",
            "replace DenseNet121_aug4_pretrain_WeightBelow1_1_0.829766922537.pkl? [y]es, [n]o, [A]ll, [N]one, [r]ename: y\n",
            "  inflating: DenseNet121_aug4_pretrain_WeightBelow1_1_0.829766922537.pkl  \n",
            "replace inference.py? [y]es, [n]o, [A]ll, [N]one, [r]ename: y\n",
            "  inflating: inference.py            \n"
          ],
          "name": "stdout"
        }
      ]
    },
    {
      "cell_type": "code",
      "metadata": {
        "id": "PzAOP3uVN89o",
        "colab_type": "code",
        "colab": {
          "base_uri": "https://localhost:8080/",
          "height": 87
        },
        "outputId": "747ee855-ff6b-41f9-b9f5-a02d1199f005"
      },
      "source": [
        "! python3 inference.py\n"
      ],
      "execution_count": 42,
      "outputs": [
        {
          "output_type": "stream",
          "text": [
            "Traceback (most recent call last):\n",
            "  File \"inference.py\", line 4, in <module>\n",
            "    import judger_medical as judger\n",
            "ModuleNotFoundError: No module named 'judger_medical'\n"
          ],
          "name": "stdout"
        }
      ]
    },
    {
      "cell_type": "code",
      "metadata": {
        "id": "xseu8woBOP8l",
        "colab_type": "code",
        "colab": {
          "base_uri": "https://localhost:8080/",
          "height": 1000
        },
        "outputId": "bdfc827c-598a-4b55-bc9e-8972e466d174"
      },
      "source": [
        "import cv2\n",
        "import pandas as pd\n",
        "import os\n",
        "import numpy\n",
        "from google.colab.patches import cv2_imshow\n",
        "\n",
        "img_folder_path='/content'\n",
        "frame=cv2.imread(img_folder_path)\n",
        "\n",
        "ac_bbox = '/content/CheXNet-with-localization/output/bounding_box.txt'\n",
        "pd_bbox = '/content/CheXNet-with-localization/bounding_box.txt'\n",
        "\n",
        "def plot_bbox(img_folder_path, bbox_filename):\n",
        "    actual_bbox=open(bbox_filename)\n",
        "    img_folder_path=os.path.split(img_folder_path)[-1]\n",
        "    #print(img_folder_path)\n",
        "    count=0\n",
        "    temp_count=0\n",
        "    final_bbox_list=[]\n",
        "    for img in actual_bbox :\n",
        "        if img.find(img_folder_path) != -1:\n",
        "            print('file exist:',count)\n",
        "            print('given image',img)\n",
        "            temp_count=count\n",
        "            print(\"this is temp count\",temp_count)\n",
        "        if count > temp_count:\n",
        "\n",
        "            if img.find('/') == -1 :\n",
        "                final_bbox_list.append(img)\n",
        "            else:\n",
        "                break\n",
        "        count+=1\n",
        "\n",
        "    i=final_bbox_list[1]\n",
        "    temp_i=list(i.split(\" \"))\n",
        "    temp_i.pop(0)\n",
        "\n",
        "    p = numpy.array(temp_i)\n",
        "    k=p.astype(float)\n",
        "\n",
        "    x1=int(k[0])\n",
        "    y1=int(k[1])\n",
        "    x2=int(k[2])\n",
        "    y2=int(k[3])\n",
        "    return x1,y1,x2,y2\n",
        "\n",
        "x1,y1,x2,y2=plot_bbox(img_folder_path, ac_bbox)\n",
        "x_1,y_1,x_2,y_2=plot_bbox(img_folder_path, pd_bbox)\n",
        "\n",
        "cv2.rectangle(frame,(x1,y1),(x2,y2),(0,255,0),3) #rgb 220,20,60\n",
        "cv2.rectangle(frame,(x_1,y_1),(x_2,y_2),(60,20,220),3)\n",
        "print(frame)\n",
        "cv2.imshow('image',frame)\n",
        "cv2.waitKey(0)\n",
        "cv2.destroyAllWindows()\n"
      ],
      "execution_count": 48,
      "outputs": [
        {
          "output_type": "stream",
          "text": [
            "file exist: 0\n",
            "given image /content/00000001_000.png 10\n",
            "\n",
            "this is temp count 0\n",
            "file exist: 11\n",
            "given image /content/00000001_001.png 6\n",
            "\n",
            "this is temp count 11\n",
            "file exist: 18\n",
            "given image /content/00000001_002.png 10\n",
            "\n",
            "this is temp count 18\n",
            "file exist: 29\n",
            "given image /content/00000002_000.png 12\n",
            "\n",
            "this is temp count 29\n",
            "file exist: 42\n",
            "given image /content/00000003_000.png 10\n",
            "\n",
            "this is temp count 42\n",
            "file exist: 53\n",
            "given image /content/00000003_001.png 12\n",
            "\n",
            "this is temp count 53\n",
            "file exist: 66\n",
            "given image /content/00000003_002.png 14\n",
            "\n",
            "this is temp count 66\n",
            "file exist: 81\n",
            "given image /content/00000003_004.png 13\n",
            "\n",
            "this is temp count 81\n",
            "file exist: 95\n",
            "given image /content/00000003_005.png 12\n",
            "\n",
            "this is temp count 95\n",
            "file exist: 108\n",
            "given image /content/00000003_006.png 16\n",
            "\n",
            "this is temp count 108\n",
            "None\n"
          ],
          "name": "stdout"
        },
        {
          "output_type": "error",
          "ename": "AttributeError",
          "evalue": "ignored",
          "traceback": [
            "\u001b[0;31m---------------------------------------------------------------------------\u001b[0m",
            "\u001b[0;31mAttributeError\u001b[0m                            Traceback (most recent call last)",
            "\u001b[0;32m<ipython-input-48-0ac1aeb7b916>\u001b[0m in \u001b[0;36m<module>\u001b[0;34m()\u001b[0m\n\u001b[1;32m     51\u001b[0m \u001b[0mcv2\u001b[0m\u001b[0;34m.\u001b[0m\u001b[0mrectangle\u001b[0m\u001b[0;34m(\u001b[0m\u001b[0mframe\u001b[0m\u001b[0;34m,\u001b[0m\u001b[0;34m(\u001b[0m\u001b[0mx_1\u001b[0m\u001b[0;34m,\u001b[0m\u001b[0my_1\u001b[0m\u001b[0;34m)\u001b[0m\u001b[0;34m,\u001b[0m\u001b[0;34m(\u001b[0m\u001b[0mx_2\u001b[0m\u001b[0;34m,\u001b[0m\u001b[0my_2\u001b[0m\u001b[0;34m)\u001b[0m\u001b[0;34m,\u001b[0m\u001b[0;34m(\u001b[0m\u001b[0;36m60\u001b[0m\u001b[0;34m,\u001b[0m\u001b[0;36m20\u001b[0m\u001b[0;34m,\u001b[0m\u001b[0;36m220\u001b[0m\u001b[0;34m)\u001b[0m\u001b[0;34m,\u001b[0m\u001b[0;36m3\u001b[0m\u001b[0;34m)\u001b[0m\u001b[0;34m\u001b[0m\u001b[0;34m\u001b[0m\u001b[0m\n\u001b[1;32m     52\u001b[0m \u001b[0mprint\u001b[0m\u001b[0;34m(\u001b[0m\u001b[0mframe\u001b[0m\u001b[0;34m)\u001b[0m\u001b[0;34m\u001b[0m\u001b[0;34m\u001b[0m\u001b[0m\n\u001b[0;32m---> 53\u001b[0;31m \u001b[0mcv2_imshow\u001b[0m\u001b[0;34m(\u001b[0m\u001b[0mframe\u001b[0m\u001b[0;34m)\u001b[0m\u001b[0;34m\u001b[0m\u001b[0;34m\u001b[0m\u001b[0m\n\u001b[0m\u001b[1;32m     54\u001b[0m \u001b[0mcv2\u001b[0m\u001b[0;34m.\u001b[0m\u001b[0mwaitKey\u001b[0m\u001b[0;34m(\u001b[0m\u001b[0;36m0\u001b[0m\u001b[0;34m)\u001b[0m\u001b[0;34m\u001b[0m\u001b[0;34m\u001b[0m\u001b[0m\n\u001b[1;32m     55\u001b[0m \u001b[0mcv2\u001b[0m\u001b[0;34m.\u001b[0m\u001b[0mdestroyAllWindows\u001b[0m\u001b[0;34m(\u001b[0m\u001b[0;34m)\u001b[0m\u001b[0;34m\u001b[0m\u001b[0;34m\u001b[0m\u001b[0m\n",
            "\u001b[0;32m/usr/local/lib/python3.6/dist-packages/google/colab/patches/__init__.py\u001b[0m in \u001b[0;36mcv2_imshow\u001b[0;34m(a)\u001b[0m\n\u001b[1;32m     20\u001b[0m       \u001b[0mimage\u001b[0m\u001b[0;34m.\u001b[0m\u001b[0;34m\u001b[0m\u001b[0;34m\u001b[0m\u001b[0m\n\u001b[1;32m     21\u001b[0m   \"\"\"\n\u001b[0;32m---> 22\u001b[0;31m   \u001b[0ma\u001b[0m \u001b[0;34m=\u001b[0m \u001b[0ma\u001b[0m\u001b[0;34m.\u001b[0m\u001b[0mclip\u001b[0m\u001b[0;34m(\u001b[0m\u001b[0;36m0\u001b[0m\u001b[0;34m,\u001b[0m \u001b[0;36m255\u001b[0m\u001b[0;34m)\u001b[0m\u001b[0;34m.\u001b[0m\u001b[0mastype\u001b[0m\u001b[0;34m(\u001b[0m\u001b[0;34m'uint8'\u001b[0m\u001b[0;34m)\u001b[0m\u001b[0;34m\u001b[0m\u001b[0;34m\u001b[0m\u001b[0m\n\u001b[0m\u001b[1;32m     23\u001b[0m   \u001b[0;31m# cv2 stores colors as BGR; convert to RGB\u001b[0m\u001b[0;34m\u001b[0m\u001b[0;34m\u001b[0m\u001b[0;34m\u001b[0m\u001b[0m\n\u001b[1;32m     24\u001b[0m   \u001b[0;32mif\u001b[0m \u001b[0ma\u001b[0m\u001b[0;34m.\u001b[0m\u001b[0mndim\u001b[0m \u001b[0;34m==\u001b[0m \u001b[0;36m3\u001b[0m\u001b[0;34m:\u001b[0m\u001b[0;34m\u001b[0m\u001b[0;34m\u001b[0m\u001b[0m\n",
            "\u001b[0;31mAttributeError\u001b[0m: 'NoneType' object has no attribute 'clip'"
          ]
        }
      ]
    },
    {
      "cell_type": "code",
      "metadata": {
        "id": "v2snFxKGQD86",
        "colab_type": "code",
        "colab": {}
      },
      "source": [
        ""
      ],
      "execution_count": 0,
      "outputs": []
    }
  ]
}
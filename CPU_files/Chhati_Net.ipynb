{
 "cells": [
  {
   "cell_type": "code",
   "execution_count": 1,
   "metadata": {},
   "outputs": [
    {
     "name": "stdout",
     "output_type": "stream",
     "text": [
      "fatal: destination path 'CheXNet-with-localization' already exists and is not an empty directory.\r\n"
     ]
    }
   ],
   "source": [
    "!git clone https://github.com/thtang/CheXNet-with-localization.git"
   ]
  },
  {
   "cell_type": "code",
   "execution_count": null,
   "metadata": {},
   "outputs": [],
   "source": [
    "cd ./CheXNet-with-localization"
   ]
  },
  {
   "cell_type": "code",
   "execution_count": 3,
   "metadata": {},
   "outputs": [
    {
     "name": "stdout",
     "output_type": "stream",
     "text": [
      "python3: can't open file './denseNet_localization.py': [Errno 2] No such file or directory\r\n"
     ]
    }
   ],
   "source": [
    "!python3 denseNet_localization.py ./image.txt ./"
   ]
  },
  {
   "cell_type": "code",
   "execution_count": null,
   "metadata": {
    "scrolled": true
   },
   "outputs": [],
   "source": [
    "import cv2\n",
    "import pandas as pd\n",
    "import os\n",
    "import numpy\n",
    "\n",
    "img_folder_path='./00000003_004.png'\n",
    "frame=cv2.imread(img_folder_path)\n",
    "\n",
    "ac_bbox = './output/bounding_box.txt'\n",
    "pd_bbox = './bounding_box.txt'\n",
    "\n",
    "def plot_bbox(img_folder_path, bbox_filename):\n",
    "    actual_bbox=open(bbox_filename)\n",
    "    img_folder_path=os.path.split(img_folder_path)[-1]\n",
    "    #print(img_folder_path)\n",
    "    count=0\n",
    "    temp_count=0\n",
    "    final_bbox_list=[]\n",
    "    for img in actual_bbox :\n",
    "        if img.find(img_folder_path) != -1:\n",
    "            print('file exist:',count)\n",
    "            print('given image',img)\n",
    "            temp_count=count\n",
    "            print(\"this is temp count\",temp_count)\n",
    "        if count > temp_count:\n",
    "\n",
    "            if img.find('/') == -1 :\n",
    "                final_bbox_list.append(img)\n",
    "            else:\n",
    "                break\n",
    "        count+=1\n",
    "\n",
    "    i=final_bbox_list[1]\n",
    "    temp_i=list(i.split(\" \"))\n",
    "    temp_i.pop(0)\n",
    "\n",
    "    p = numpy.array(temp_i)\n",
    "    k=p.astype(float)\n",
    "\n",
    "    x1=int(k[0])\n",
    "    y1=int(k[1])\n",
    "    x2=int(k[2])\n",
    "    y2=int(k[3])\n",
    "    return x1,y1,x2,y2\n",
    "\n",
    "x1,y1,x2,y2=plot_bbox(img_folder_path, ac_bbox)\n",
    "x_1,y_1,x_2,y_2=plot_bbox(img_folder_path, pd_bbox)\n",
    "\n",
    "cv2.rectangle(frame,(x1,y1),(x2,y2),(0,255,0),3) #rgb 220,20,60\n",
    "cv2.rectangle(frame,(x_1,y_1),(x_2,y_2),(60,20,220),3)\n",
    "print(frame)\n",
    "cv2.imshow('image',frame)\n",
    "cv2.waitKey(0)\n",
    "cv2.destroyAllWindows()"
   ]
  },
  {
   "cell_type": "code",
   "execution_count": null,
   "metadata": {},
   "outputs": [],
   "source": []
  }
 ],
 "metadata": {
  "kernelspec": {
   "display_name": "Python 3",
   "language": "python",
   "name": "python3"
  },
  "language_info": {
   "codemirror_mode": {
    "name": "ipython",
    "version": 3
   },
   "file_extension": ".py",
   "mimetype": "text/x-python",
   "name": "python",
   "nbconvert_exporter": "python",
   "pygments_lexer": "ipython3",
   "version": "3.7.3"
  }
 },
 "nbformat": 4,
 "nbformat_minor": 2
}
